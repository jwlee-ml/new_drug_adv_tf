{
  "nbformat": 4,
  "nbformat_minor": 0,
  "metadata": {
    "colab": {
      "name": "99_1.Weight Initialization.ipynb",
      "provenance": [],
      "collapsed_sections": []
    },
    "language_info": {
      "codemirror_mode": {
        "name": "ipython",
        "version": 3
      },
      "file_extension": ".py",
      "mimetype": "text/x-python",
      "name": "python",
      "nbconvert_exporter": "python",
      "pygments_lexer": "ipython3",
      "version": "3.5.6"
    },
    "kernelspec": {
      "display_name": "Python 3",
      "language": "python",
      "name": "python3"
    }
  },
  "cells": [
    {
      "cell_type": "code",
      "metadata": {
        "id": "TbTI1hBHNudj",
        "colab_type": "code",
        "colab": {}
      },
      "source": [
        "import numpy as np\n",
        "import matplotlib.pyplot as plt"
      ],
      "execution_count": 0,
      "outputs": []
    },
    {
      "cell_type": "code",
      "metadata": {
        "id": "QJ4-1DfqNudl",
        "colab_type": "code",
        "colab": {}
      },
      "source": [
        "dims = [4096]*7\n",
        "dims"
      ],
      "execution_count": 0,
      "outputs": []
    },
    {
      "cell_type": "code",
      "metadata": {
        "id": "cc2Q7rGdNudn",
        "colab_type": "code",
        "colab": {}
      },
      "source": [
        "hs = []"
      ],
      "execution_count": 0,
      "outputs": []
    },
    {
      "cell_type": "code",
      "metadata": {
        "id": "7ZoPqLAUNudq",
        "colab_type": "code",
        "colab": {}
      },
      "source": [
        "x = np.random.randn(16, dims[0])"
      ],
      "execution_count": 0,
      "outputs": []
    },
    {
      "cell_type": "code",
      "metadata": {
        "id": "D4rRi25SNudt",
        "colab_type": "code",
        "colab": {}
      },
      "source": [
        "for Din, Dout in zip(dims[:-1], dims[1:]):\n",
        "    W = 0.1 * np.random.randn(Din, Dout)\n",
        "    #W = np.random.randn(Din, Dout) / np.sqrt(Din/2)\n",
        "    x = np.tanh(x.dot(W))\n",
        "    #x = np.maximum(0, x.dot(W))\n",
        "    hs.append(x)"
      ],
      "execution_count": 0,
      "outputs": []
    },
    {
      "cell_type": "code",
      "metadata": {
        "id": "baPHnSb6Nudw",
        "colab_type": "code",
        "colab": {}
      },
      "source": [
        "plt.figure(figsize=(22, 3))\n",
        "for i in range(len(hs)):\n",
        "    plt.subplot(1,6,i+1)\n",
        "    plt.title(\"Layer {}\\n Mean: {:.2f}\\n Std: {:.2f}\".format(i+1, np.mean(hs[i]), np.std(hs[i])))\n",
        "    plt.hist(np.reshape(hs[i], -1), bins=20, range=(-1,1))    \n",
        "plt.show()"
      ],
      "execution_count": 0,
      "outputs": []
    },
    {
      "cell_type": "code",
      "metadata": {
        "id": "mJw3Avv1Nudy",
        "colab_type": "code",
        "colab": {}
      },
      "source": [
        ""
      ],
      "execution_count": 0,
      "outputs": []
    }
  ]
}