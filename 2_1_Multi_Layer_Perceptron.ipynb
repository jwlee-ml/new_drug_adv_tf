{
  "nbformat": 4,
  "nbformat_minor": 0,
  "metadata": {
    "kernelspec": {
      "name": "python3",
      "display_name": "Python 3"
    },
    "language_info": {
      "codemirror_mode": {
        "name": "ipython",
        "version": 3
      },
      "file_extension": ".py",
      "mimetype": "text/x-python",
      "name": "python",
      "nbconvert_exporter": "python",
      "pygments_lexer": "ipython3",
      "version": "3.5.6"
    },
    "colab": {
      "name": "2_1.Multi_Layer_Perceptron.ipynb",
      "provenance": [],
      "collapsed_sections": []
    },
    "accelerator": "GPU"
  },
  "cells": [
    {
      "cell_type": "markdown",
      "metadata": {
        "id": "1D2zND53dHZg",
        "colab_type": "text"
      },
      "source": [
        "## TensorFlow 2.0 설치\n",
        "[런타임] -> [런타임 유형변경]에서 하드웨어 가속기를 꼭 GPU로 설정!"
      ]
    },
    {
      "cell_type": "code",
      "metadata": {
        "id": "KDMDtusTdLOg",
        "colab_type": "code",
        "outputId": "0d41b197-bd2d-4e88-a0db-0d33fee98fa9",
        "colab": {
          "base_uri": "https://localhost:8080/",
          "height": 411
        }
      },
      "source": [
        "!pip install tensorflow-gpu==2.0.0"
      ],
      "execution_count": 0,
      "outputs": [
        {
          "output_type": "stream",
          "text": [
            "Requirement already satisfied: tensorflow-gpu==2.0.0 in /usr/local/lib/python3.6/dist-packages (2.0.0)\n",
            "Requirement already satisfied: six>=1.10.0 in /usr/local/lib/python3.6/dist-packages (from tensorflow-gpu==2.0.0) (1.12.0)\n",
            "Requirement already satisfied: google-pasta>=0.1.6 in /usr/local/lib/python3.6/dist-packages (from tensorflow-gpu==2.0.0) (0.1.7)\n",
            "Requirement already satisfied: tensorboard<2.1.0,>=2.0.0 in /usr/local/lib/python3.6/dist-packages (from tensorflow-gpu==2.0.0) (2.0.0)\n",
            "Requirement already satisfied: absl-py>=0.7.0 in /usr/local/lib/python3.6/dist-packages (from tensorflow-gpu==2.0.0) (0.8.0)\n",
            "Requirement already satisfied: keras-preprocessing>=1.0.5 in /usr/local/lib/python3.6/dist-packages (from tensorflow-gpu==2.0.0) (1.1.0)\n",
            "Requirement already satisfied: grpcio>=1.8.6 in /usr/local/lib/python3.6/dist-packages (from tensorflow-gpu==2.0.0) (1.15.0)\n",
            "Requirement already satisfied: protobuf>=3.6.1 in /usr/local/lib/python3.6/dist-packages (from tensorflow-gpu==2.0.0) (3.7.1)\n",
            "Requirement already satisfied: keras-applications>=1.0.8 in /usr/local/lib/python3.6/dist-packages (from tensorflow-gpu==2.0.0) (1.0.8)\n",
            "Requirement already satisfied: gast==0.2.2 in /usr/local/lib/python3.6/dist-packages (from tensorflow-gpu==2.0.0) (0.2.2)\n",
            "Requirement already satisfied: opt-einsum>=2.3.2 in /usr/local/lib/python3.6/dist-packages (from tensorflow-gpu==2.0.0) (3.1.0)\n",
            "Requirement already satisfied: wrapt>=1.11.1 in /usr/local/lib/python3.6/dist-packages (from tensorflow-gpu==2.0.0) (1.11.2)\n",
            "Requirement already satisfied: termcolor>=1.1.0 in /usr/local/lib/python3.6/dist-packages (from tensorflow-gpu==2.0.0) (1.1.0)\n",
            "Requirement already satisfied: wheel>=0.26 in /usr/local/lib/python3.6/dist-packages (from tensorflow-gpu==2.0.0) (0.33.6)\n",
            "Requirement already satisfied: astor>=0.6.0 in /usr/local/lib/python3.6/dist-packages (from tensorflow-gpu==2.0.0) (0.8.0)\n",
            "Requirement already satisfied: tensorflow-estimator<2.1.0,>=2.0.0 in /usr/local/lib/python3.6/dist-packages (from tensorflow-gpu==2.0.0) (2.0.0)\n",
            "Requirement already satisfied: numpy<2.0,>=1.16.0 in /usr/local/lib/python3.6/dist-packages (from tensorflow-gpu==2.0.0) (1.16.5)\n",
            "Requirement already satisfied: werkzeug>=0.11.15 in /usr/local/lib/python3.6/dist-packages (from tensorboard<2.1.0,>=2.0.0->tensorflow-gpu==2.0.0) (0.16.0)\n",
            "Requirement already satisfied: markdown>=2.6.8 in /usr/local/lib/python3.6/dist-packages (from tensorboard<2.1.0,>=2.0.0->tensorflow-gpu==2.0.0) (3.1.1)\n",
            "Requirement already satisfied: setuptools>=41.0.0 in /usr/local/lib/python3.6/dist-packages (from tensorboard<2.1.0,>=2.0.0->tensorflow-gpu==2.0.0) (41.2.0)\n",
            "Requirement already satisfied: h5py in /usr/local/lib/python3.6/dist-packages (from keras-applications>=1.0.8->tensorflow-gpu==2.0.0) (2.8.0)\n"
          ],
          "name": "stdout"
        }
      ]
    },
    {
      "cell_type": "markdown",
      "metadata": {
        "id": "YuSmlP3hc2gA",
        "colab_type": "text"
      },
      "source": [
        "## Importing Libraries"
      ]
    },
    {
      "cell_type": "code",
      "metadata": {
        "id": "yIP78tvlc2gB",
        "colab_type": "code",
        "outputId": "6fff5fa8-6e2e-4a12-baaa-5d52f24e7e95",
        "colab": {
          "base_uri": "https://localhost:8080/",
          "height": 54
        }
      },
      "source": [
        "import tensorflow as tf\n",
        "from tensorflow import keras\n",
        "from tensorflow.keras.utils import to_categorical\n",
        "import numpy as np\n",
        "import matplotlib.pyplot as plt\n",
        "import os\n",
        "\n",
        "print(tf.__version__)\n",
        "print(keras.__version__)"
      ],
      "execution_count": 0,
      "outputs": [
        {
          "output_type": "stream",
          "text": [
            "2.0.0\n",
            "2.2.4-tf\n"
          ],
          "name": "stdout"
        }
      ]
    },
    {
      "cell_type": "markdown",
      "metadata": {
        "id": "lIf_ME7-c2gD",
        "colab_type": "text"
      },
      "source": [
        "## Enable Eager Mode"
      ]
    },
    {
      "cell_type": "code",
      "metadata": {
        "id": "QyjnBQH7c2gE",
        "colab_type": "code",
        "colab": {}
      },
      "source": [
        "if tf.__version__ < '2.0.0':\n",
        "    tf.enable_eager_execution()"
      ],
      "execution_count": 0,
      "outputs": []
    },
    {
      "cell_type": "markdown",
      "metadata": {
        "id": "P9h5pJtRc2gG",
        "colab_type": "text"
      },
      "source": [
        "## Hyper Parameters"
      ]
    },
    {
      "cell_type": "code",
      "metadata": {
        "id": "8GyqfeSTc2gH",
        "colab_type": "code",
        "colab": {}
      },
      "source": [
        "learning_rate = 0.001\n",
        "training_epochs = 20\n",
        "batch_size = 100\n",
        "n_class = 10"
      ],
      "execution_count": 0,
      "outputs": []
    },
    {
      "cell_type": "markdown",
      "metadata": {
        "id": "yfso9lHbc2gJ",
        "colab_type": "text"
      },
      "source": [
        "## MNIST/Fashion MNIST Data"
      ]
    },
    {
      "cell_type": "code",
      "metadata": {
        "id": "bTm_qqgnc2gK",
        "colab_type": "code",
        "colab": {}
      },
      "source": [
        "## MNIST Dataset #########################################################\n",
        "mnist = keras.datasets.mnist\n",
        "class_names = ['0', '1', '2', '3', '4', '5', '6', '7', '8', '9']\n",
        "##########################################################################\n",
        "\n",
        "## Fashion MNIST Dataset #################################################\n",
        "#mnist = keras.datasets.fashion_mnist\n",
        "#class_names = ['T-shirt/top', 'Trouser', 'Pullover', 'Dress', 'Coat', 'Sandal', 'Shirt', 'Sneaker', 'Bag', 'Ankle boot']\n",
        "##########################################################################"
      ],
      "execution_count": 0,
      "outputs": []
    },
    {
      "cell_type": "markdown",
      "metadata": {
        "id": "yBEChy8Vc2gM",
        "colab_type": "text"
      },
      "source": [
        "## Datasets"
      ]
    },
    {
      "cell_type": "code",
      "metadata": {
        "id": "xIiLtFKFc2gN",
        "colab_type": "code",
        "colab": {}
      },
      "source": [
        "## MNIST dataset load\n",
        "(train_images, train_labels), (test_images, test_labels) = mnist.load_data()  "
      ],
      "execution_count": 0,
      "outputs": []
    },
    {
      "cell_type": "code",
      "metadata": {
        "id": "7pZPYK3tc2gP",
        "colab_type": "code",
        "outputId": "5df5dcfc-fa02-4e3f-cb2c-bb4c6b57d1af",
        "colab": {
          "base_uri": "https://localhost:8080/",
          "height": 36
        }
      },
      "source": [
        "type(train_images), type(train_labels)"
      ],
      "execution_count": 0,
      "outputs": [
        {
          "output_type": "execute_result",
          "data": {
            "text/plain": [
              "(numpy.ndarray, numpy.ndarray)"
            ]
          },
          "metadata": {
            "tags": []
          },
          "execution_count": 7
        }
      ]
    },
    {
      "cell_type": "code",
      "metadata": {
        "id": "pot6yL8Jc2gR",
        "colab_type": "code",
        "outputId": "1c36551f-0af2-4dd2-c347-363b9457a43e",
        "colab": {
          "base_uri": "https://localhost:8080/",
          "height": 36
        }
      },
      "source": [
        "train_images.shape, train_labels.shape"
      ],
      "execution_count": 0,
      "outputs": [
        {
          "output_type": "execute_result",
          "data": {
            "text/plain": [
              "((60000, 28, 28), (60000,))"
            ]
          },
          "metadata": {
            "tags": []
          },
          "execution_count": 8
        }
      ]
    },
    {
      "cell_type": "code",
      "metadata": {
        "id": "tbXINTxAc2gT",
        "colab_type": "code",
        "outputId": "660a2648-3cdd-4a78-e5c9-f75b54632ccd",
        "colab": {
          "base_uri": "https://localhost:8080/",
          "height": 36
        }
      },
      "source": [
        "test_images.shape, test_labels.shape"
      ],
      "execution_count": 0,
      "outputs": [
        {
          "output_type": "execute_result",
          "data": {
            "text/plain": [
              "((10000, 28, 28), (10000,))"
            ]
          },
          "metadata": {
            "tags": []
          },
          "execution_count": 9
        }
      ]
    },
    {
      "cell_type": "code",
      "metadata": {
        "id": "UNUwl_XzdscK",
        "colab_type": "code",
        "outputId": "03e4d13f-2a76-41d8-a31b-af024e383345",
        "colab": {
          "base_uri": "https://localhost:8080/",
          "height": 205
        }
      },
      "source": [
        "## training set의 각 class 별 image 수 확인\n",
        "unique, counts = np.unique(train_labels, axis=-1, return_counts=True)\n",
        "dict(zip(unique, counts))"
      ],
      "execution_count": 0,
      "outputs": [
        {
          "output_type": "execute_result",
          "data": {
            "text/plain": [
              "{0: 5923,\n",
              " 1: 6742,\n",
              " 2: 5958,\n",
              " 3: 6131,\n",
              " 4: 5842,\n",
              " 5: 5421,\n",
              " 6: 5918,\n",
              " 7: 6265,\n",
              " 8: 5851,\n",
              " 9: 5949}"
            ]
          },
          "metadata": {
            "tags": []
          },
          "execution_count": 10
        }
      ]
    },
    {
      "cell_type": "code",
      "metadata": {
        "id": "jG4FZ0PKd2sQ",
        "colab_type": "code",
        "outputId": "f218b11e-418d-419b-a350-eabee029520c",
        "colab": {
          "base_uri": "https://localhost:8080/",
          "height": 205
        }
      },
      "source": [
        "## test set의 각 class 별 image 수 확인\n",
        "unique, counts = np.unique(test_labels, axis=-1, return_counts=True)\n",
        "dict(zip(unique, counts))"
      ],
      "execution_count": 0,
      "outputs": [
        {
          "output_type": "execute_result",
          "data": {
            "text/plain": [
              "{0: 980,\n",
              " 1: 1135,\n",
              " 2: 1032,\n",
              " 3: 1010,\n",
              " 4: 982,\n",
              " 5: 892,\n",
              " 6: 958,\n",
              " 7: 1028,\n",
              " 8: 974,\n",
              " 9: 1009}"
            ]
          },
          "metadata": {
            "tags": []
          },
          "execution_count": 11
        }
      ]
    },
    {
      "cell_type": "code",
      "metadata": {
        "id": "0IJkpDBLc2gV",
        "colab_type": "code",
        "colab": {}
      },
      "source": [
        "n_train = train_images.shape[0]\n",
        "n_test = test_images.shape[0]"
      ],
      "execution_count": 0,
      "outputs": []
    },
    {
      "cell_type": "code",
      "metadata": {
        "id": "nPGVScGHc2gX",
        "colab_type": "code",
        "outputId": "01a0dea1-9130-4d3c-c348-71bb70e5b08f",
        "colab": {
          "base_uri": "https://localhost:8080/",
          "height": 288
        }
      },
      "source": [
        "plt.figure()\n",
        "plt.imshow(train_images[0], cmap=plt.cm.binary)\n",
        "plt.colorbar()"
      ],
      "execution_count": 0,
      "outputs": [
        {
          "output_type": "execute_result",
          "data": {
            "text/plain": [
              "<matplotlib.colorbar.Colorbar at 0x7f628c3720f0>"
            ]
          },
          "metadata": {
            "tags": []
          },
          "execution_count": 13
        },
        {
          "output_type": "display_data",
          "data": {
            "image/png": "[encoded data removed]",
            "text/plain": [
              "<Figure size 432x288 with 2 Axes>"
            ]
          },
          "metadata": {
            "tags": []
          }
        }
      ]
    },
    {
      "cell_type": "code",
      "metadata": {
        "id": "lMx9I_5Lc2gZ",
        "colab_type": "code",
        "outputId": "c2dfa1d9-e247-436b-818d-c23af0c7054f",
        "colab": {
          "base_uri": "https://localhost:8080/",
          "height": 864
        }
      },
      "source": [
        "plt.figure(figsize=(15,15))\n",
        "for i in range(25):\n",
        "    plt.subplot(5,5,i+1)\n",
        "    plt.xticks([])\n",
        "    plt.yticks([])\n",
        "    plt.grid(False)\n",
        "    plt.imshow(train_images[i], cmap=plt.cm.binary)\n",
        "    plt.xlabel(class_names[train_labels[i]])"
      ],
      "execution_count": 0,
      "outputs": [
        {
          "output_type": "display_data",
          "data": {
            "image/png": "[encoded data removed]",
            "text/plain": [
              "<Figure size 1080x1080 with 25 Axes>"
            ]
          },
          "metadata": {
            "tags": []
          }
        }
      ]
    },
    {
      "cell_type": "code",
      "metadata": {
        "id": "kg0Nx9Obc2gb",
        "colab_type": "code",
        "colab": {}
      },
      "source": [
        "## image를 0~1사이 값으로 만들기 위하여 255로 나누어줌\n",
        "train_images = train_images.astype(np.float32) / 255.\n",
        "test_images = test_images.astype(np.float32) / 255.\n",
        "\n",
        "## one-hot encoding\n",
        "train_labels = to_categorical(train_labels, n_class)\n",
        "test_labels = to_categorical(test_labels, n_class)"
      ],
      "execution_count": 0,
      "outputs": []
    },
    {
      "cell_type": "code",
      "metadata": {
        "id": "lHyVpL1Ka9mz",
        "colab_type": "code",
        "colab": {}
      },
      "source": [
        "## dataset 구성    \n",
        "train_dataset = tf.data.Dataset.from_tensor_slices((train_images, train_labels)).shuffle(\n",
        "                buffer_size=100000).batch(batch_size)\n",
        "test_dataset = tf.data.Dataset.from_tensor_slices((test_images, test_labels)).batch(batch_size)"
      ],
      "execution_count": 0,
      "outputs": []
    },
    {
      "cell_type": "markdown",
      "metadata": {
        "id": "y9pWpm9mc2gd",
        "colab_type": "text"
      },
      "source": [
        "## Linear Regression Model"
      ]
    },
    {
      "cell_type": "code",
      "metadata": {
        "id": "i5v4vQA2c2ge",
        "colab_type": "code",
        "colab": {}
      },
      "source": [
        "def create_lr_model():\n",
        "    model = keras.Sequential()\n",
        "    model.add(keras.layers.Flatten(input_shape=(28,28)))\n",
        "    model.add(keras.layers.Dense(10, activation='softmax'))\n",
        "    return model"
      ],
      "execution_count": 0,
      "outputs": []
    },
    {
      "cell_type": "code",
      "metadata": {
        "id": "54eUybNTc2gg",
        "colab_type": "code",
        "outputId": "2c24d862-5f19-4d40-ada3-6322d6117610",
        "colab": {
          "base_uri": "https://localhost:8080/",
          "height": 242
        }
      },
      "source": [
        "lr_model = create_lr_model()\n",
        "lr_model.summary()"
      ],
      "execution_count": 0,
      "outputs": [
        {
          "output_type": "stream",
          "text": [
            "Model: \"sequential\"\n",
            "_________________________________________________________________\n",
            "Layer (type)                 Output Shape              Param #   \n",
            "=================================================================\n",
            "flatten (Flatten)            (None, 784)               0         \n",
            "_________________________________________________________________\n",
            "dense (Dense)                (None, 10)                7850      \n",
            "=================================================================\n",
            "Total params: 7,850\n",
            "Trainable params: 7,850\n",
            "Non-trainable params: 0\n",
            "_________________________________________________________________\n"
          ],
          "name": "stdout"
        }
      ]
    },
    {
      "cell_type": "markdown",
      "metadata": {
        "id": "VlpxtXX9g6nq",
        "colab_type": "text"
      },
      "source": [
        "## Loss & Optimizer"
      ]
    },
    {
      "cell_type": "code",
      "metadata": {
        "id": "19ptM-RjUHN3",
        "colab_type": "code",
        "colab": {}
      },
      "source": [
        "loss_object = tf.keras.losses.CategoricalCrossentropy()\n",
        "optimizer = tf.keras.optimizers.Adam(learning_rate)"
      ],
      "execution_count": 0,
      "outputs": []
    },
    {
      "cell_type": "code",
      "metadata": {
        "id": "xsydWtIdUHh3",
        "colab_type": "code",
        "colab": {}
      },
      "source": [
        "train_loss = tf.keras.metrics.Mean()\n",
        "train_accuracy = tf.keras.metrics.CategoricalAccuracy()\n",
        "\n",
        "test_loss = tf.keras.metrics.Mean()\n",
        "test_accuracy = tf.keras.metrics.CategoricalAccuracy()"
      ],
      "execution_count": 0,
      "outputs": []
    },
    {
      "cell_type": "markdown",
      "metadata": {
        "id": "IJM4WalFhBWS",
        "colab_type": "text"
      },
      "source": [
        "## Train & Test function"
      ]
    },
    {
      "cell_type": "code",
      "metadata": {
        "id": "DI3RNHlXU5g1",
        "colab_type": "code",
        "colab": {}
      },
      "source": [
        "@tf.function\n",
        "def train_step(images, labels):\n",
        "  with tf.GradientTape() as tape:\n",
        "    predictions = lr_model(images)\n",
        "    loss = loss_object(labels, predictions)\n",
        "  gradients = tape.gradient(loss, lr_model.trainable_variables)\n",
        "  optimizer.apply_gradients(zip(gradients, lr_model.trainable_variables))\n",
        "\n",
        "  train_loss(loss)\n",
        "  train_accuracy(labels, predictions)"
      ],
      "execution_count": 0,
      "outputs": []
    },
    {
      "cell_type": "code",
      "metadata": {
        "id": "uOGZ3wEuU5mF",
        "colab_type": "code",
        "colab": {}
      },
      "source": [
        "@tf.function\n",
        "def test_step(images, labels):\n",
        "  predictions = lr_model(images)\n",
        "  t_loss = loss_object(labels, predictions)\n",
        "\n",
        "  test_loss(t_loss)\n",
        "  test_accuracy(labels, predictions)"
      ],
      "execution_count": 0,
      "outputs": []
    },
    {
      "cell_type": "markdown",
      "metadata": {
        "id": "V7lJgOpthG4q",
        "colab_type": "text"
      },
      "source": [
        "## Training"
      ]
    },
    {
      "cell_type": "code",
      "metadata": {
        "id": "83v7HWdoU5dP",
        "colab_type": "code",
        "outputId": "7315cde4-54e8-4eb7-e8d1-c71f89bbbcaa",
        "colab": {
          "base_uri": "https://localhost:8080/",
          "height": 393
        }
      },
      "source": [
        "for epoch in range(training_epochs):\n",
        "  for images, labels in train_dataset:\n",
        "    train_step(images, labels)\n",
        "\n",
        "  for test_images, test_labels in test_dataset:\n",
        "    test_step(test_images, test_labels)\n",
        "\n",
        "  template = 'Epoch: {}, loss: {:.4f}, accuracy: {:.4f}, val_loss: {:.4f}, val_accuracy: {:.4f}'\n",
        "  print (template.format(epoch+1,\n",
        "                         train_loss.result(),\n",
        "                         train_accuracy.result(),\n",
        "                         test_loss.result(),\n",
        "                         test_accuracy.result()))"
      ],
      "execution_count": 0,
      "outputs": [
        {
          "output_type": "stream",
          "text": [
            "Epoch: 1, loss: 0.6279, accuracy: 0.8411, val_loss: 0.3628, val_accuracy: 0.9041\n",
            "Epoch: 2, loss: 0.4870, accuracy: 0.8735, val_loss: 0.3361, val_accuracy: 0.9090\n",
            "Epoch: 3, loss: 0.4278, accuracy: 0.8871, val_loss: 0.3203, val_accuracy: 0.9124\n",
            "Epoch: 4, loss: 0.3939, accuracy: 0.8949, val_loss: 0.3100, val_accuracy: 0.9151\n",
            "Epoch: 5, loss: 0.3715, accuracy: 0.9002, val_loss: 0.3031, val_accuracy: 0.9165\n",
            "Epoch: 6, loss: 0.3553, accuracy: 0.9040, val_loss: 0.2980, val_accuracy: 0.9177\n",
            "Epoch: 7, loss: 0.3431, accuracy: 0.9070, val_loss: 0.2939, val_accuracy: 0.9186\n",
            "Epoch: 8, loss: 0.3334, accuracy: 0.9094, val_loss: 0.2908, val_accuracy: 0.9194\n",
            "Epoch: 9, loss: 0.3254, accuracy: 0.9114, val_loss: 0.2882, val_accuracy: 0.9201\n",
            "Epoch: 10, loss: 0.3188, accuracy: 0.9131, val_loss: 0.2857, val_accuracy: 0.9208\n",
            "Epoch: 11, loss: 0.3132, accuracy: 0.9145, val_loss: 0.2839, val_accuracy: 0.9212\n",
            "Epoch: 12, loss: 0.3083, accuracy: 0.9157, val_loss: 0.2823, val_accuracy: 0.9216\n",
            "Epoch: 13, loss: 0.3041, accuracy: 0.9169, val_loss: 0.2808, val_accuracy: 0.9220\n",
            "Epoch: 14, loss: 0.3003, accuracy: 0.9178, val_loss: 0.2797, val_accuracy: 0.9223\n",
            "Epoch: 15, loss: 0.2970, accuracy: 0.9187, val_loss: 0.2785, val_accuracy: 0.9227\n",
            "Epoch: 16, loss: 0.2939, accuracy: 0.9195, val_loss: 0.2776, val_accuracy: 0.9230\n",
            "Epoch: 17, loss: 0.2912, accuracy: 0.9202, val_loss: 0.2768, val_accuracy: 0.9233\n",
            "Epoch: 18, loss: 0.2887, accuracy: 0.9209, val_loss: 0.2759, val_accuracy: 0.9235\n",
            "Epoch: 19, loss: 0.2864, accuracy: 0.9215, val_loss: 0.2753, val_accuracy: 0.9238\n",
            "Epoch: 20, loss: 0.2843, accuracy: 0.9220, val_loss: 0.2747, val_accuracy: 0.9239\n"
          ],
          "name": "stdout"
        }
      ]
    },
    {
      "cell_type": "markdown",
      "metadata": {
        "id": "j7xZonrnhN1_",
        "colab_type": "text"
      },
      "source": [
        "# Using Keras"
      ]
    },
    {
      "cell_type": "code",
      "metadata": {
        "id": "CJ4oatRXU5aL",
        "colab_type": "code",
        "colab": {}
      },
      "source": [
        "## dataset에 repeat()추가\n",
        "train_dataset = train_dataset.repeat()\n",
        "test_dataset = test_dataset.repeat()"
      ],
      "execution_count": 0,
      "outputs": []
    },
    {
      "cell_type": "code",
      "metadata": {
        "id": "u5CR9jbLU5XZ",
        "colab_type": "code",
        "colab": {}
      },
      "source": [
        "## 새로운 model 만들기\n",
        "lr_model_k = create_lr_model()"
      ],
      "execution_count": 0,
      "outputs": []
    },
    {
      "cell_type": "markdown",
      "metadata": {
        "id": "xWTv4YmqegoR",
        "colab_type": "text"
      },
      "source": [
        "## Model Compile(Optimizer & Loss Function)"
      ]
    },
    {
      "cell_type": "code",
      "metadata": {
        "id": "WIDB24aaeZbT",
        "colab_type": "code",
        "colab": {}
      },
      "source": [
        "lr_model_k.compile(optimizers=keras.optimizers.Adam(learning_rate),\n",
        "                 loss = 'categorical_crossentropy',\n",
        "                 metrics=['accuracy'])"
      ],
      "execution_count": 0,
      "outputs": []
    },
    {
      "cell_type": "markdown",
      "metadata": {
        "id": "UZ4-9ws-c2gh",
        "colab_type": "text"
      },
      "source": [
        "## Training"
      ]
    },
    {
      "cell_type": "code",
      "metadata": {
        "id": "Tuge30Lsc2gi",
        "colab_type": "code",
        "outputId": "866a8ee7-3eb5-4b82-82f2-707264b7a77f",
        "colab": {
          "base_uri": "https://localhost:8080/",
          "height": 36
        }
      },
      "source": [
        "steps_per_epoch = n_train//batch_size\n",
        "validation_steps = n_test//batch_size\n",
        "print(steps_per_epoch, validation_steps) "
      ],
      "execution_count": 0,
      "outputs": [
        {
          "output_type": "stream",
          "text": [
            "600 100\n"
          ],
          "name": "stdout"
        }
      ]
    },
    {
      "cell_type": "code",
      "metadata": {
        "id": "AqA-8BjNfarK",
        "colab_type": "code",
        "outputId": "9a3bf05c-b638-451c-d9cd-7f5a5fc9175f",
        "colab": {
          "base_uri": "https://localhost:8080/",
          "height": 787
        }
      },
      "source": [
        "history = lr_model_k.fit(train_dataset, epochs=training_epochs, steps_per_epoch=steps_per_epoch, \n",
        "                    validation_data=test_dataset, validation_steps=validation_steps)"
      ],
      "execution_count": 0,
      "outputs": [
        {
          "output_type": "stream",
          "text": [
            "Train for 600 steps, validate for 100 steps\n",
            "Epoch 1/20\n",
            "600/600 [==============================] - 4s 6ms/step - loss: 0.5630 - accuracy: 0.8568 - val_loss: 0.3318 - val_accuracy: 0.9087\n",
            "Epoch 2/20\n",
            "600/600 [==============================] - 3s 5ms/step - loss: 0.3223 - accuracy: 0.9100 - val_loss: 0.2939 - val_accuracy: 0.9195\n",
            "Epoch 3/20\n",
            "600/600 [==============================] - 3s 5ms/step - loss: 0.2973 - accuracy: 0.9172 - val_loss: 0.2819 - val_accuracy: 0.9224\n",
            "Epoch 4/20\n",
            "600/600 [==============================] - 3s 5ms/step - loss: 0.2855 - accuracy: 0.9204 - val_loss: 0.2763 - val_accuracy: 0.9239\n",
            "Epoch 5/20\n",
            "600/600 [==============================] - 3s 5ms/step - loss: 0.2780 - accuracy: 0.9231 - val_loss: 0.2734 - val_accuracy: 0.9251\n",
            "Epoch 6/20\n",
            "600/600 [==============================] - 3s 5ms/step - loss: 0.2731 - accuracy: 0.9246 - val_loss: 0.2705 - val_accuracy: 0.9256\n",
            "Epoch 7/20\n",
            "600/600 [==============================] - 3s 5ms/step - loss: 0.2694 - accuracy: 0.9260 - val_loss: 0.2707 - val_accuracy: 0.9264\n",
            "Epoch 8/20\n",
            "600/600 [==============================] - 3s 5ms/step - loss: 0.2669 - accuracy: 0.9264 - val_loss: 0.2732 - val_accuracy: 0.9255\n",
            "Epoch 9/20\n",
            "600/600 [==============================] - 3s 5ms/step - loss: 0.2648 - accuracy: 0.9276 - val_loss: 0.2687 - val_accuracy: 0.9274\n",
            "Epoch 10/20\n",
            "600/600 [==============================] - 3s 5ms/step - loss: 0.2628 - accuracy: 0.9280 - val_loss: 0.2711 - val_accuracy: 0.9261\n",
            "Epoch 11/20\n",
            "600/600 [==============================] - 3s 5ms/step - loss: 0.2613 - accuracy: 0.9291 - val_loss: 0.2705 - val_accuracy: 0.9280\n",
            "Epoch 12/20\n",
            "600/600 [==============================] - 3s 5ms/step - loss: 0.2600 - accuracy: 0.9289 - val_loss: 0.2719 - val_accuracy: 0.9251\n",
            "Epoch 13/20\n",
            "600/600 [==============================] - 3s 5ms/step - loss: 0.2591 - accuracy: 0.9305 - val_loss: 0.2692 - val_accuracy: 0.9281\n",
            "Epoch 14/20\n",
            "600/600 [==============================] - 3s 5ms/step - loss: 0.2581 - accuracy: 0.9299 - val_loss: 0.2701 - val_accuracy: 0.9270\n",
            "Epoch 15/20\n",
            "600/600 [==============================] - 3s 5ms/step - loss: 0.2572 - accuracy: 0.9303 - val_loss: 0.2701 - val_accuracy: 0.9278\n",
            "Epoch 16/20\n",
            "600/600 [==============================] - 3s 5ms/step - loss: 0.2565 - accuracy: 0.9309 - val_loss: 0.2718 - val_accuracy: 0.9280\n",
            "Epoch 17/20\n",
            "600/600 [==============================] - 3s 5ms/step - loss: 0.2554 - accuracy: 0.9316 - val_loss: 0.2715 - val_accuracy: 0.9290\n",
            "Epoch 18/20\n",
            "600/600 [==============================] - 3s 5ms/step - loss: 0.2555 - accuracy: 0.9317 - val_loss: 0.2711 - val_accuracy: 0.9286\n",
            "Epoch 19/20\n",
            "600/600 [==============================] - 3s 5ms/step - loss: 0.2547 - accuracy: 0.9320 - val_loss: 0.2705 - val_accuracy: 0.9296\n",
            "Epoch 20/20\n",
            "600/600 [==============================] - 3s 5ms/step - loss: 0.2540 - accuracy: 0.9325 - val_loss: 0.2734 - val_accuracy: 0.9284\n"
          ],
          "name": "stdout"
        }
      ]
    },
    {
      "cell_type": "markdown",
      "metadata": {
        "id": "KZ3x2hbfc2gk",
        "colab_type": "text"
      },
      "source": [
        "## Training 결과 확인"
      ]
    },
    {
      "cell_type": "code",
      "metadata": {
        "id": "P8o6oJWWc2gl",
        "colab_type": "code",
        "colab": {}
      },
      "source": [
        "def plot_image(i, predictions_array, true_label, img):\n",
        "    predictions_array, true_label, img = predictions_array[i], true_label[i], img[i]\n",
        "    plt.grid(False)\n",
        "    plt.xticks([])\n",
        "    plt.yticks([])\n",
        "\n",
        "    plt.imshow(img,cmap=plt.cm.binary)\n",
        "\n",
        "    predicted_label = np.argmax(predictions_array)\n",
        "    if predicted_label == true_label:\n",
        "        color = 'blue'\n",
        "    else:\n",
        "        color = 'red'\n",
        "\n",
        "    plt.xlabel(\"{} {:2.0f}% ({})\".format(class_names[predicted_label],\n",
        "                                100*np.max(predictions_array),\n",
        "                                class_names[true_label]),\n",
        "                                color=color)\n",
        "\n",
        "def plot_value_array(i, predictions_array, true_label):\n",
        "    predictions_array, true_label = predictions_array[i], true_label[i]\n",
        "    plt.grid(False)\n",
        "    #plt.xticks([])\n",
        "    plt.xticks(range(n_class), class_names, rotation=90)\n",
        "    plt.yticks([])\n",
        "    thisplot = plt.bar(range(n_class), predictions_array, color=\"#777777\")\n",
        "    plt.ylim([0, 1]) \n",
        "    predicted_label = np.argmax(predictions_array)\n",
        " \n",
        "    thisplot[predicted_label].set_color('red')\n",
        "    thisplot[true_label].set_color('blue')"
      ],
      "execution_count": 0,
      "outputs": []
    },
    {
      "cell_type": "code",
      "metadata": {
        "id": "QXeU3uTQf-lK",
        "colab_type": "code",
        "outputId": "2de3e0fe-8281-4f56-92a4-4e7de16d1873",
        "colab": {
          "base_uri": "https://localhost:8080/",
          "height": 1000
        }
      },
      "source": [
        "rnd_idx = np.random.randint(1, n_test//batch_size)\n",
        "img_cnt = 0\n",
        "for images, labels in test_dataset:\n",
        "    img_cnt += 1\n",
        "    if img_cnt != rnd_idx:\n",
        "        continue\n",
        "    predictions = lr_model_k(images, training=False)\n",
        "    num_rows = 5\n",
        "    num_cols = 3\n",
        "    num_images = num_rows*num_cols\n",
        "    labels = tf.argmax(labels, axis=-1)\n",
        "    plt.figure(figsize=(3*2*num_cols, 4*num_rows))\n",
        "    plt.subplots_adjust(hspace=1.0)\n",
        "    for i in range(num_images):\n",
        "        plt.subplot(num_rows, 2*num_cols, 2*i+1)\n",
        "        plot_image(i, predictions.numpy(), labels.numpy(), images.numpy())\n",
        "        plt.subplot(num_rows, 2*num_cols, 2*i+2)\n",
        "        plot_value_array(i, predictions.numpy(), labels.numpy())        \n",
        "    break"
      ],
      "execution_count": 0,
      "outputs": [
        {
          "output_type": "display_data",
          "data": {
            "image/png": "[encoded data removed]",
            "text/plain": [
              "<Figure size 1296x1440 with 30 Axes>"
            ]
          },
          "metadata": {
            "tags": []
          }
        }
      ]
    },
    {
      "cell_type": "markdown",
      "metadata": {
        "id": "7NlrYsiqc2gn",
        "colab_type": "text"
      },
      "source": [
        "## Multi-Layer Perceptron Model - 3 layers"
      ]
    },
    {
      "cell_type": "code",
      "metadata": {
        "id": "09qhaVdVrHCt",
        "colab_type": "code",
        "colab": {}
      },
      "source": [
        "## MNIST dataset load\n",
        "(train_images, train_labels), (test_images, test_labels) = mnist.load_data()\n",
        "\n",
        "## image를 0~1사이 값으로 만들기 위하여 255로 나누어줌\n",
        "train_images = train_images.astype(np.float32) / 255.\n",
        "test_images = test_images.astype(np.float32) / 255.\n",
        "\n",
        "## one-hot encoding\n",
        "train_labels = to_categorical(train_labels, n_class)\n",
        "test_labels = to_categorical(test_labels, n_class)"
      ],
      "execution_count": 0,
      "outputs": []
    },
    {
      "cell_type": "code",
      "metadata": {
        "id": "w5JSvmtRiuWy",
        "colab_type": "code",
        "colab": {}
      },
      "source": [
        "## dataset 구성 - repeat() 다시 빼기 \n",
        "train_dataset = tf.data.Dataset.from_tensor_slices((train_images, train_labels)).shuffle(\n",
        "                buffer_size=100000).batch(batch_size)\n",
        "test_dataset = tf.data.Dataset.from_tensor_slices((test_images, test_labels)).batch(batch_size)"
      ],
      "execution_count": 0,
      "outputs": []
    },
    {
      "cell_type": "code",
      "metadata": {
        "id": "oExA_JU5c2gn",
        "colab_type": "code",
        "colab": {}
      },
      "source": [
        "def create_mlp_model():\n",
        "    model = keras.Sequential()\n",
        "    model.add(keras.layers.Flatten(input_shape=(28,28)))\n",
        "    model.add(keras.layers.Dense(256, activation='relu'))\n",
        "    model.add(keras.layers.Dense(128, activation='relu'))\n",
        "    model.add(keras.layers.Dense(10, activation='softmax'))\n",
        "    return model"
      ],
      "execution_count": 0,
      "outputs": []
    },
    {
      "cell_type": "code",
      "metadata": {
        "id": "qt3aJVrBg4I7",
        "colab_type": "code",
        "outputId": "8ea83a85-c1b7-4f87-81ec-134c9b7eef63",
        "colab": {
          "base_uri": "https://localhost:8080/",
          "height": 317
        }
      },
      "source": [
        "mlp_model = create_mlp_model()\n",
        "mlp_model.summary()"
      ],
      "execution_count": 0,
      "outputs": [
        {
          "output_type": "stream",
          "text": [
            "Model: \"sequential_2\"\n",
            "_________________________________________________________________\n",
            "Layer (type)                 Output Shape              Param #   \n",
            "=================================================================\n",
            "flatten_2 (Flatten)          (None, 784)               0         \n",
            "_________________________________________________________________\n",
            "dense_2 (Dense)              (None, 256)               200960    \n",
            "_________________________________________________________________\n",
            "dense_3 (Dense)              (None, 128)               32896     \n",
            "_________________________________________________________________\n",
            "dense_4 (Dense)              (None, 10)                1290      \n",
            "=================================================================\n",
            "Total params: 235,146\n",
            "Trainable params: 235,146\n",
            "Non-trainable params: 0\n",
            "_________________________________________________________________\n"
          ],
          "name": "stdout"
        }
      ]
    },
    {
      "cell_type": "code",
      "metadata": {
        "id": "YuNpjWpYmKg3",
        "colab_type": "code",
        "colab": {}
      },
      "source": [
        "## reset metrics\n",
        "train_loss.reset_states()\n",
        "train_accuracy.reset_states()\n",
        "test_loss.reset_states()\n",
        "test_accuracy.reset_states()"
      ],
      "execution_count": 0,
      "outputs": []
    },
    {
      "cell_type": "code",
      "metadata": {
        "id": "qkN3VHEQiBei",
        "colab_type": "code",
        "colab": {}
      },
      "source": [
        "## train function\n",
        "@tf.function\n",
        "def train_step(images, labels):\n",
        "  with tf.GradientTape() as tape:\n",
        "    predictions = mlp_model(images)\n",
        "    loss = loss_object(labels, predictions)\n",
        "  gradients = tape.gradient(loss, mlp_model.trainable_variables)\n",
        "  optimizer.apply_gradients(zip(gradients, mlp_model.trainable_variables))\n",
        "\n",
        "  train_loss(loss)\n",
        "  train_accuracy(labels, predictions)"
      ],
      "execution_count": 0,
      "outputs": []
    },
    {
      "cell_type": "code",
      "metadata": {
        "id": "yeR_HjASiLgD",
        "colab_type": "code",
        "colab": {}
      },
      "source": [
        "## test function\n",
        "@tf.function\n",
        "def test_step(images, labels):\n",
        "  predictions = mlp_model(images)\n",
        "  t_loss = loss_object(labels, predictions)\n",
        "\n",
        "  test_loss(t_loss)\n",
        "  test_accuracy(labels, predictions)"
      ],
      "execution_count": 0,
      "outputs": []
    },
    {
      "cell_type": "code",
      "metadata": {
        "id": "si8ryD36iMac",
        "colab_type": "code",
        "outputId": "7d3e2904-263b-42ee-e650-e266959b804c",
        "colab": {
          "base_uri": "https://localhost:8080/",
          "height": 393
        }
      },
      "source": [
        "## Training\n",
        "for epoch in range(training_epochs):\n",
        "  for images, labels in train_dataset:\n",
        "    train_step(images, labels)\n",
        "\n",
        "  for test_images, test_labels in test_dataset:\n",
        "    test_step(test_images, test_labels)\n",
        "\n",
        "  template = 'Epoch: {}, loss: {:.4f}, accuracy: {:.4f}, val_loss: {:.4f}, val_accuracy: {:.4f}'\n",
        "  print (template.format(epoch+1,\n",
        "                         train_loss.result(),\n",
        "                         train_accuracy.result(),\n",
        "                         test_loss.result(),\n",
        "                         test_accuracy.result()))"
      ],
      "execution_count": 0,
      "outputs": [
        {
          "output_type": "stream",
          "text": [
            "Epoch: 1, loss: 0.1847, accuracy: 0.9436, val_loss: 0.0982, val_accuracy: 0.9690\n",
            "Epoch: 2, loss: 0.1279, accuracy: 0.9606, val_loss: 0.0872, val_accuracy: 0.9725\n",
            "Epoch: 3, loss: 0.1009, accuracy: 0.9689, val_loss: 0.0806, val_accuracy: 0.9746\n",
            "Epoch: 4, loss: 0.0838, accuracy: 0.9741, val_loss: 0.0770, val_accuracy: 0.9762\n",
            "Epoch: 5, loss: 0.0718, accuracy: 0.9779, val_loss: 0.0751, val_accuracy: 0.9770\n",
            "Epoch: 6, loss: 0.0629, accuracy: 0.9806, val_loss: 0.0750, val_accuracy: 0.9774\n",
            "Epoch: 7, loss: 0.0559, accuracy: 0.9828, val_loss: 0.0745, val_accuracy: 0.9776\n",
            "Epoch: 8, loss: 0.0505, accuracy: 0.9844, val_loss: 0.0729, val_accuracy: 0.9782\n",
            "Epoch: 9, loss: 0.0460, accuracy: 0.9858, val_loss: 0.0727, val_accuracy: 0.9785\n",
            "Epoch: 10, loss: 0.0421, accuracy: 0.9870, val_loss: 0.0729, val_accuracy: 0.9787\n",
            "Epoch: 11, loss: 0.0392, accuracy: 0.9879, val_loss: 0.0746, val_accuracy: 0.9787\n",
            "Epoch: 12, loss: 0.0366, accuracy: 0.9887, val_loss: 0.0758, val_accuracy: 0.9788\n",
            "Epoch: 13, loss: 0.0345, accuracy: 0.9893, val_loss: 0.0798, val_accuracy: 0.9784\n",
            "Epoch: 14, loss: 0.0324, accuracy: 0.9900, val_loss: 0.0806, val_accuracy: 0.9785\n",
            "Epoch: 15, loss: 0.0305, accuracy: 0.9905, val_loss: 0.0813, val_accuracy: 0.9788\n",
            "Epoch: 16, loss: 0.0291, accuracy: 0.9910, val_loss: 0.0830, val_accuracy: 0.9787\n",
            "Epoch: 17, loss: 0.0278, accuracy: 0.9914, val_loss: 0.0846, val_accuracy: 0.9787\n",
            "Epoch: 18, loss: 0.0267, accuracy: 0.9917, val_loss: 0.0850, val_accuracy: 0.9789\n",
            "Epoch: 19, loss: 0.0254, accuracy: 0.9921, val_loss: 0.0855, val_accuracy: 0.9791\n",
            "Epoch: 20, loss: 0.0244, accuracy: 0.9924, val_loss: 0.0865, val_accuracy: 0.9792\n"
          ],
          "name": "stdout"
        }
      ]
    },
    {
      "cell_type": "markdown",
      "metadata": {
        "id": "GaqbiojAc2gp",
        "colab_type": "text"
      },
      "source": [
        "## Using Keras"
      ]
    },
    {
      "cell_type": "code",
      "metadata": {
        "id": "TYUJqidXjIlj",
        "colab_type": "code",
        "colab": {}
      },
      "source": [
        "## dataset에 repeat()추가\n",
        "train_dataset = train_dataset.repeat()\n",
        "test_dataset = test_dataset.repeat()"
      ],
      "execution_count": 0,
      "outputs": []
    },
    {
      "cell_type": "code",
      "metadata": {
        "id": "2tijmU1ZjIvQ",
        "colab_type": "code",
        "colab": {}
      },
      "source": [
        "## 새로운 model 만들기\n",
        "mlp_model_k = create_mlp_model()"
      ],
      "execution_count": 0,
      "outputs": []
    },
    {
      "cell_type": "code",
      "metadata": {
        "id": "a4Bh7fiKc2gq",
        "colab_type": "code",
        "colab": {}
      },
      "source": [
        "## model compile\n",
        "mlp_model_k.compile(optimizers=keras.optimizers.Adam(learning_rate),\n",
        "                 loss = 'categorical_crossentropy',\n",
        "                 metrics=['accuracy'])"
      ],
      "execution_count": 0,
      "outputs": []
    },
    {
      "cell_type": "code",
      "metadata": {
        "scrolled": false,
        "id": "PJUm_LLJc2gx",
        "colab_type": "code",
        "outputId": "300f256e-65c5-40fa-b34a-0036230badcd",
        "colab": {
          "base_uri": "https://localhost:8080/",
          "height": 787
        }
      },
      "source": [
        "## training\n",
        "history = mlp_model_k.fit(train_dataset, epochs=training_epochs, steps_per_epoch=steps_per_epoch, \n",
        "                    validation_data=test_dataset, validation_steps=validation_steps)"
      ],
      "execution_count": 0,
      "outputs": [
        {
          "output_type": "stream",
          "text": [
            "Train for 600 steps, validate for 100 steps\n",
            "Epoch 1/20\n",
            "600/600 [==============================] - 4s 7ms/step - loss: 0.2446 - accuracy: 0.9281 - val_loss: 0.1135 - val_accuracy: 0.9643\n",
            "Epoch 2/20\n",
            "600/600 [==============================] - 3s 5ms/step - loss: 0.0954 - accuracy: 0.9707 - val_loss: 0.0962 - val_accuracy: 0.9696\n",
            "Epoch 3/20\n",
            "600/600 [==============================] - 3s 5ms/step - loss: 0.0668 - accuracy: 0.9799 - val_loss: 0.0763 - val_accuracy: 0.9766\n",
            "Epoch 4/20\n",
            "600/600 [==============================] - 3s 5ms/step - loss: 0.0478 - accuracy: 0.9855 - val_loss: 0.0728 - val_accuracy: 0.9781\n",
            "Epoch 5/20\n",
            "600/600 [==============================] - 3s 5ms/step - loss: 0.0370 - accuracy: 0.9889 - val_loss: 0.0744 - val_accuracy: 0.9790\n",
            "Epoch 6/20\n",
            "600/600 [==============================] - 3s 5ms/step - loss: 0.0291 - accuracy: 0.9909 - val_loss: 0.0796 - val_accuracy: 0.9778\n",
            "Epoch 7/20\n",
            "600/600 [==============================] - 3s 5ms/step - loss: 0.0235 - accuracy: 0.9924 - val_loss: 0.0770 - val_accuracy: 0.9794\n",
            "Epoch 8/20\n",
            "600/600 [==============================] - 3s 5ms/step - loss: 0.0179 - accuracy: 0.9942 - val_loss: 0.0839 - val_accuracy: 0.9804\n",
            "Epoch 9/20\n",
            "600/600 [==============================] - 3s 5ms/step - loss: 0.0152 - accuracy: 0.9952 - val_loss: 0.0835 - val_accuracy: 0.9809\n",
            "Epoch 10/20\n",
            "600/600 [==============================] - 3s 5ms/step - loss: 0.0128 - accuracy: 0.9961 - val_loss: 0.0954 - val_accuracy: 0.9799\n",
            "Epoch 11/20\n",
            "600/600 [==============================] - 3s 5ms/step - loss: 0.0101 - accuracy: 0.9966 - val_loss: 0.0988 - val_accuracy: 0.9813\n",
            "Epoch 12/20\n",
            "600/600 [==============================] - 3s 5ms/step - loss: 0.0087 - accuracy: 0.9974 - val_loss: 0.1051 - val_accuracy: 0.9794\n",
            "Epoch 13/20\n",
            "600/600 [==============================] - 3s 6ms/step - loss: 0.0073 - accuracy: 0.9976 - val_loss: 0.1029 - val_accuracy: 0.9816\n",
            "Epoch 14/20\n",
            "600/600 [==============================] - 3s 6ms/step - loss: 0.0063 - accuracy: 0.9979 - val_loss: 0.1014 - val_accuracy: 0.9807\n",
            "Epoch 15/20\n",
            "600/600 [==============================] - 3s 5ms/step - loss: 0.0052 - accuracy: 0.9983 - val_loss: 0.1203 - val_accuracy: 0.9813\n",
            "Epoch 16/20\n",
            "600/600 [==============================] - 3s 5ms/step - loss: 0.0059 - accuracy: 0.9984 - val_loss: 0.1182 - val_accuracy: 0.9805\n",
            "Epoch 17/20\n",
            "600/600 [==============================] - 3s 5ms/step - loss: 0.0040 - accuracy: 0.9987 - val_loss: 0.1229 - val_accuracy: 0.9816\n",
            "Epoch 18/20\n",
            "600/600 [==============================] - 3s 5ms/step - loss: 0.0044 - accuracy: 0.9987 - val_loss: 0.1249 - val_accuracy: 0.9812\n",
            "Epoch 19/20\n",
            "600/600 [==============================] - 3s 6ms/step - loss: 0.0034 - accuracy: 0.9990 - val_loss: 0.1348 - val_accuracy: 0.9812\n",
            "Epoch 20/20\n",
            "600/600 [==============================] - 3s 5ms/step - loss: 0.0039 - accuracy: 0.9987 - val_loss: 0.1563 - val_accuracy: 0.9791\n"
          ],
          "name": "stdout"
        }
      ]
    },
    {
      "cell_type": "markdown",
      "metadata": {
        "id": "41x7OABPhZVL",
        "colab_type": "text"
      },
      "source": [
        "## Multi-Layer Perceptron Model - 5 layers"
      ]
    },
    {
      "cell_type": "code",
      "metadata": {
        "id": "Jc9Z8q4Arpo9",
        "colab_type": "code",
        "colab": {}
      },
      "source": [
        "## MNIST dataset load\n",
        "(train_images, train_labels), (test_images, test_labels) = mnist.load_data()\n",
        "\n",
        "## image를 0~1사이 값으로 만들기 위하여 255로 나누어줌\n",
        "train_images = train_images.astype(np.float32) / 255.\n",
        "test_images = test_images.astype(np.float32) / 255.\n",
        "\n",
        "## one-hot encoding\n",
        "train_labels = to_categorical(train_labels, n_class)\n",
        "test_labels = to_categorical(test_labels, n_class)"
      ],
      "execution_count": 0,
      "outputs": []
    },
    {
      "cell_type": "code",
      "metadata": {
        "id": "WLvohSZRrp15",
        "colab_type": "code",
        "colab": {}
      },
      "source": [
        "## dataset 구성 - repeat() 다시 빼기 \n",
        "train_dataset = tf.data.Dataset.from_tensor_slices((train_images, train_labels)).shuffle(\n",
        "                buffer_size=100000).batch(batch_size)\n",
        "test_dataset = tf.data.Dataset.from_tensor_slices((test_images, test_labels)).batch(batch_size)"
      ],
      "execution_count": 0,
      "outputs": []
    },
    {
      "cell_type": "code",
      "metadata": {
        "id": "b8VAp4MUc2g2",
        "colab_type": "code",
        "colab": {}
      },
      "source": [
        "def create_dmlp_model():\n",
        "    model = keras.Sequential()\n",
        "    model.add(keras.layers.Flatten(input_shape=(28,28)))\n",
        "    model.add(keras.layers.Dense(256, activation='relu'))\n",
        "    model.add(keras.layers.Dense(256, activation='relu'))    \n",
        "    model.add(keras.layers.Dense(128, activation='relu'))\n",
        "    model.add(keras.layers.Dense(128, activation='relu'))    \n",
        "    model.add(keras.layers.Dense(10, activation='softmax'))\n",
        "    return model"
      ],
      "execution_count": 0,
      "outputs": []
    },
    {
      "cell_type": "code",
      "metadata": {
        "id": "7-DUAEV0hsSd",
        "colab_type": "code",
        "outputId": "85b3d48b-928b-41a9-acbd-4d5325ba67cb",
        "colab": {
          "base_uri": "https://localhost:8080/",
          "height": 393
        }
      },
      "source": [
        "dmlp_model = create_dmlp_model()\n",
        "dmlp_model.summary()"
      ],
      "execution_count": 0,
      "outputs": [
        {
          "output_type": "stream",
          "text": [
            "Model: \"sequential_4\"\n",
            "_________________________________________________________________\n",
            "Layer (type)                 Output Shape              Param #   \n",
            "=================================================================\n",
            "flatten_4 (Flatten)          (None, 784)               0         \n",
            "_________________________________________________________________\n",
            "dense_8 (Dense)              (None, 256)               200960    \n",
            "_________________________________________________________________\n",
            "dense_9 (Dense)              (None, 256)               65792     \n",
            "_________________________________________________________________\n",
            "dense_10 (Dense)             (None, 128)               32896     \n",
            "_________________________________________________________________\n",
            "dense_11 (Dense)             (None, 128)               16512     \n",
            "_________________________________________________________________\n",
            "dense_12 (Dense)             (None, 10)                1290      \n",
            "=================================================================\n",
            "Total params: 317,450\n",
            "Trainable params: 317,450\n",
            "Non-trainable params: 0\n",
            "_________________________________________________________________\n"
          ],
          "name": "stdout"
        }
      ]
    },
    {
      "cell_type": "code",
      "metadata": {
        "id": "GxpfNAFIj0k0",
        "colab_type": "code",
        "colab": {}
      },
      "source": [
        "## dataset 구성 - repeat() 다시 빼기 \n",
        "train_dataset = tf.data.Dataset.from_tensor_slices((train_images, train_labels)).shuffle(buffer_size=100000).batch(batch_size)\n",
        "test_dataset = tf.data.Dataset.from_tensor_slices((test_images, test_labels)).batch(batch_size)"
      ],
      "execution_count": 0,
      "outputs": []
    },
    {
      "cell_type": "code",
      "metadata": {
        "id": "VDXoU6dEpMUs",
        "colab_type": "code",
        "colab": {}
      },
      "source": [
        "## reset metrics\n",
        "train_loss.reset_states()\n",
        "train_accuracy.reset_states()\n",
        "test_loss.reset_states()\n",
        "test_accuracy.reset_states()"
      ],
      "execution_count": 0,
      "outputs": []
    },
    {
      "cell_type": "code",
      "metadata": {
        "id": "rtLPDw2Gj0vo",
        "colab_type": "code",
        "colab": {}
      },
      "source": [
        "## train function\n",
        "@tf.function\n",
        "def train_step(images, labels):\n",
        "  with tf.GradientTape() as tape:\n",
        "    predictions = dmlp_model(images)\n",
        "    loss = loss_object(labels, predictions)\n",
        "  gradients = tape.gradient(loss, dmlp_model.trainable_variables)\n",
        "  optimizer.apply_gradients(zip(gradients, dmlp_model.trainable_variables))\n",
        "\n",
        "  train_loss(loss)\n",
        "  train_accuracy(labels, predictions)"
      ],
      "execution_count": 0,
      "outputs": []
    },
    {
      "cell_type": "code",
      "metadata": {
        "id": "ScJQTd3Xj03-",
        "colab_type": "code",
        "colab": {}
      },
      "source": [
        "## test function\n",
        "@tf.function\n",
        "def test_step(images, labels):\n",
        "  predictions = dmlp_model(images)\n",
        "  t_loss = loss_object(labels, predictions)\n",
        "\n",
        "  test_loss(t_loss)\n",
        "  test_accuracy(labels, predictions)"
      ],
      "execution_count": 0,
      "outputs": []
    },
    {
      "cell_type": "code",
      "metadata": {
        "id": "BgTT0kkfj0-B",
        "colab_type": "code",
        "outputId": "07ddd708-8802-41b1-9861-98f91585ae38",
        "colab": {
          "base_uri": "https://localhost:8080/",
          "height": 393
        }
      },
      "source": [
        "## Training\n",
        "for epoch in range(training_epochs):\n",
        "  for images, labels in train_dataset:\n",
        "    train_step(images, labels)\n",
        "\n",
        "  for test_images, test_labels in test_dataset:\n",
        "    test_step(test_images, test_labels)\n",
        "\n",
        "  template = 'Epoch: {}, loss: {:.4f}, accuracy: {:.4f}, val_loss: {:.4f}, val_accuracy: {:.4f}'\n",
        "  print (template.format(epoch+1,\n",
        "                         train_loss.result(),\n",
        "                         train_accuracy.result(),\n",
        "                         test_loss.result(),\n",
        "                         test_accuracy.result()))"
      ],
      "execution_count": 0,
      "outputs": [
        {
          "output_type": "stream",
          "text": [
            "Epoch: 1, loss: 0.2099, accuracy: 0.9347, val_loss: 0.1089, val_accuracy: 0.9665\n",
            "Epoch: 2, loss: 0.1445, accuracy: 0.9556, val_loss: 0.0964, val_accuracy: 0.9712\n",
            "Epoch: 3, loss: 0.1142, accuracy: 0.9647, val_loss: 0.0939, val_accuracy: 0.9719\n",
            "Epoch: 4, loss: 0.0959, accuracy: 0.9703, val_loss: 0.0896, val_accuracy: 0.9733\n",
            "Epoch: 5, loss: 0.0827, accuracy: 0.9744, val_loss: 0.0872, val_accuracy: 0.9747\n",
            "Epoch: 6, loss: 0.0733, accuracy: 0.9772, val_loss: 0.0865, val_accuracy: 0.9755\n",
            "Epoch: 7, loss: 0.0661, accuracy: 0.9794, val_loss: 0.0890, val_accuracy: 0.9752\n",
            "Epoch: 8, loss: 0.0602, accuracy: 0.9812, val_loss: 0.0871, val_accuracy: 0.9760\n",
            "Epoch: 9, loss: 0.0553, accuracy: 0.9828, val_loss: 0.0883, val_accuracy: 0.9761\n",
            "Epoch: 10, loss: 0.0514, accuracy: 0.9840, val_loss: 0.0894, val_accuracy: 0.9763\n",
            "Epoch: 11, loss: 0.0480, accuracy: 0.9850, val_loss: 0.0901, val_accuracy: 0.9766\n",
            "Epoch: 12, loss: 0.0450, accuracy: 0.9860, val_loss: 0.0914, val_accuracy: 0.9769\n",
            "Epoch: 13, loss: 0.0425, accuracy: 0.9867, val_loss: 0.0919, val_accuracy: 0.9772\n",
            "Epoch: 14, loss: 0.0404, accuracy: 0.9874, val_loss: 0.0931, val_accuracy: 0.9772\n",
            "Epoch: 15, loss: 0.0385, accuracy: 0.9880, val_loss: 0.0935, val_accuracy: 0.9774\n",
            "Epoch: 16, loss: 0.0367, accuracy: 0.9886, val_loss: 0.0940, val_accuracy: 0.9776\n",
            "Epoch: 17, loss: 0.0352, accuracy: 0.9890, val_loss: 0.0947, val_accuracy: 0.9776\n",
            "Epoch: 18, loss: 0.0337, accuracy: 0.9895, val_loss: 0.0953, val_accuracy: 0.9779\n",
            "Epoch: 19, loss: 0.0324, accuracy: 0.9899, val_loss: 0.0981, val_accuracy: 0.9776\n",
            "Epoch: 20, loss: 0.0313, accuracy: 0.9903, val_loss: 0.0984, val_accuracy: 0.9777\n"
          ],
          "name": "stdout"
        }
      ]
    },
    {
      "cell_type": "markdown",
      "metadata": {
        "id": "zedUzx7Shyiz",
        "colab_type": "text"
      },
      "source": [
        "## Using Keras"
      ]
    },
    {
      "cell_type": "code",
      "metadata": {
        "id": "aiJDH9-ykM8L",
        "colab_type": "code",
        "colab": {}
      },
      "source": [
        "## dataset에 repeat()추가\n",
        "train_dataset = train_dataset.repeat()\n",
        "test_dataset = test_dataset.repeat()"
      ],
      "execution_count": 0,
      "outputs": []
    },
    {
      "cell_type": "code",
      "metadata": {
        "id": "NXJxBX5okND8",
        "colab_type": "code",
        "colab": {}
      },
      "source": [
        "## 새로운 model 만들기\n",
        "dmlp_model_k = create_dmlp_model()"
      ],
      "execution_count": 0,
      "outputs": []
    },
    {
      "cell_type": "code",
      "metadata": {
        "id": "KhkHjbQNhwhU",
        "colab_type": "code",
        "colab": {}
      },
      "source": [
        "## model compile\n",
        "dmlp_model_k.compile(optimizers=keras.optimizers.Adam(learning_rate),\n",
        "                 loss = 'categorical_crossentropy',\n",
        "                 metrics=['accuracy'])"
      ],
      "execution_count": 0,
      "outputs": []
    },
    {
      "cell_type": "code",
      "metadata": {
        "id": "6Vv2ebjDh4LZ",
        "colab_type": "code",
        "outputId": "b8f6d2de-b1c9-4400-df17-85049f8d6ded",
        "colab": {
          "base_uri": "https://localhost:8080/",
          "height": 787
        }
      },
      "source": [
        "## training\n",
        "history = dmlp_model_k.fit(train_dataset, epochs=training_epochs, steps_per_epoch=steps_per_epoch, \n",
        "                    validation_data=test_dataset, validation_steps=validation_steps)"
      ],
      "execution_count": 0,
      "outputs": [
        {
          "output_type": "stream",
          "text": [
            "Train for 600 steps, validate for 100 steps\n",
            "Epoch 1/20\n",
            "600/600 [==============================] - 5s 8ms/step - loss: 0.2569 - accuracy: 0.9201 - val_loss: 0.1455 - val_accuracy: 0.9538\n",
            "Epoch 2/20\n",
            "600/600 [==============================] - 4s 6ms/step - loss: 0.1010 - accuracy: 0.9701 - val_loss: 0.0883 - val_accuracy: 0.9728\n",
            "Epoch 3/20\n",
            "600/600 [==============================] - 4s 6ms/step - loss: 0.0699 - accuracy: 0.9790 - val_loss: 0.1165 - val_accuracy: 0.9686\n",
            "Epoch 4/20\n",
            "600/600 [==============================] - 4s 6ms/step - loss: 0.0534 - accuracy: 0.9848 - val_loss: 0.1058 - val_accuracy: 0.9704\n",
            "Epoch 5/20\n",
            "600/600 [==============================] - 4s 6ms/step - loss: 0.0428 - accuracy: 0.9873 - val_loss: 0.0973 - val_accuracy: 0.9758\n",
            "Epoch 6/20\n",
            "600/600 [==============================] - 4s 6ms/step - loss: 0.0346 - accuracy: 0.9897 - val_loss: 0.0953 - val_accuracy: 0.9786\n",
            "Epoch 7/20\n",
            "600/600 [==============================] - 4s 6ms/step - loss: 0.0303 - accuracy: 0.9912 - val_loss: 0.1060 - val_accuracy: 0.9784\n",
            "Epoch 8/20\n",
            "600/600 [==============================] - 4s 6ms/step - loss: 0.0266 - accuracy: 0.9926 - val_loss: 0.1177 - val_accuracy: 0.9793\n",
            "Epoch 9/20\n",
            "600/600 [==============================] - 4s 6ms/step - loss: 0.0235 - accuracy: 0.9932 - val_loss: 0.1111 - val_accuracy: 0.9795\n",
            "Epoch 10/20\n",
            "600/600 [==============================] - 4s 6ms/step - loss: 0.0221 - accuracy: 0.9941 - val_loss: 0.1064 - val_accuracy: 0.9821\n",
            "Epoch 11/20\n",
            "600/600 [==============================] - 4s 6ms/step - loss: 0.0210 - accuracy: 0.9943 - val_loss: 0.1539 - val_accuracy: 0.9796\n",
            "Epoch 12/20\n",
            "600/600 [==============================] - 4s 6ms/step - loss: 0.0190 - accuracy: 0.9951 - val_loss: 0.1374 - val_accuracy: 0.9785\n",
            "Epoch 13/20\n",
            "600/600 [==============================] - 4s 6ms/step - loss: 0.0192 - accuracy: 0.9954 - val_loss: 0.1754 - val_accuracy: 0.9795\n",
            "Epoch 14/20\n",
            "600/600 [==============================] - 4s 6ms/step - loss: 0.0177 - accuracy: 0.9956 - val_loss: 0.1949 - val_accuracy: 0.9727\n",
            "Epoch 15/20\n",
            "600/600 [==============================] - 4s 6ms/step - loss: 0.0168 - accuracy: 0.9960 - val_loss: 0.1884 - val_accuracy: 0.9809\n",
            "Epoch 16/20\n",
            "600/600 [==============================] - 4s 6ms/step - loss: 0.0167 - accuracy: 0.9962 - val_loss: 0.1802 - val_accuracy: 0.9809\n",
            "Epoch 17/20\n",
            "600/600 [==============================] - 4s 6ms/step - loss: 0.0173 - accuracy: 0.9966 - val_loss: 0.2176 - val_accuracy: 0.9730\n",
            "Epoch 18/20\n",
            "600/600 [==============================] - 4s 6ms/step - loss: 0.0164 - accuracy: 0.9963 - val_loss: 0.2256 - val_accuracy: 0.9797\n",
            "Epoch 19/20\n",
            "600/600 [==============================] - 4s 6ms/step - loss: 0.0150 - accuracy: 0.9966 - val_loss: 0.2323 - val_accuracy: 0.9803\n",
            "Epoch 20/20\n",
            "600/600 [==============================] - 4s 6ms/step - loss: 0.0144 - accuracy: 0.9969 - val_loss: 0.2515 - val_accuracy: 0.9803\n"
          ],
          "name": "stdout"
        }
      ]
    },
    {
      "cell_type": "markdown",
      "metadata": {
        "id": "71kpuSCFiVC8",
        "colab_type": "text"
      },
      "source": [
        "## Drop-out"
      ]
    },
    {
      "cell_type": "code",
      "metadata": {
        "id": "nJlViNrRiTxX",
        "colab_type": "code",
        "colab": {}
      },
      "source": [
        "drop_rate = 0.3\n",
        "\n",
        "def create_do_model():\n",
        "    model = keras.Sequential()\n",
        "    model.add(keras.layers.Flatten(input_shape=(28,28)))\n",
        "    model.add(keras.layers.Dense(256, activation='relu'))\n",
        "    model.add(keras.layers.Dropout(drop_rate))\n",
        "    model.add(keras.layers.Dense(256, activation='relu'))\n",
        "    model.add(keras.layers.Dropout(drop_rate))\n",
        "    model.add(keras.layers.Dense(128, activation='relu'))\n",
        "    model.add(keras.layers.Dropout(drop_rate))\n",
        "    model.add(keras.layers.Dense(128, activation='relu'))\n",
        "    model.add(keras.layers.Dropout(drop_rate))\n",
        "    model.add(keras.layers.Dense(10, activation='softmax'))\n",
        "    return model"
      ],
      "execution_count": 0,
      "outputs": []
    },
    {
      "cell_type": "code",
      "metadata": {
        "id": "nI-pBhnhikLR",
        "colab_type": "code",
        "outputId": "626d462d-6943-4e0d-a6a2-608675454737",
        "colab": {
          "base_uri": "https://localhost:8080/",
          "height": 543
        }
      },
      "source": [
        "do_model = create_do_model()\n",
        "do_model.summary()"
      ],
      "execution_count": 0,
      "outputs": [
        {
          "output_type": "stream",
          "text": [
            "Model: \"sequential_6\"\n",
            "_________________________________________________________________\n",
            "Layer (type)                 Output Shape              Param #   \n",
            "=================================================================\n",
            "flatten_6 (Flatten)          (None, 784)               0         \n",
            "_________________________________________________________________\n",
            "dense_18 (Dense)             (None, 256)               200960    \n",
            "_________________________________________________________________\n",
            "dropout (Dropout)            (None, 256)               0         \n",
            "_________________________________________________________________\n",
            "dense_19 (Dense)             (None, 256)               65792     \n",
            "_________________________________________________________________\n",
            "dropout_1 (Dropout)          (None, 256)               0         \n",
            "_________________________________________________________________\n",
            "dense_20 (Dense)             (None, 128)               32896     \n",
            "_________________________________________________________________\n",
            "dropout_2 (Dropout)          (None, 128)               0         \n",
            "_________________________________________________________________\n",
            "dense_21 (Dense)             (None, 128)               16512     \n",
            "_________________________________________________________________\n",
            "dropout_3 (Dropout)          (None, 128)               0         \n",
            "_________________________________________________________________\n",
            "dense_22 (Dense)             (None, 10)                1290      \n",
            "=================================================================\n",
            "Total params: 317,450\n",
            "Trainable params: 317,450\n",
            "Non-trainable params: 0\n",
            "_________________________________________________________________\n"
          ],
          "name": "stdout"
        }
      ]
    },
    {
      "cell_type": "code",
      "metadata": {
        "id": "HCcq8aCHipD7",
        "colab_type": "code",
        "colab": {}
      },
      "source": [
        "do_model.compile(optimizers=keras.optimizers.Adam(learning_rate),\n",
        "                 loss = 'categorical_crossentropy',\n",
        "                 metrics=['accuracy'])"
      ],
      "execution_count": 0,
      "outputs": []
    },
    {
      "cell_type": "code",
      "metadata": {
        "id": "1mKoA7PQisdX",
        "colab_type": "code",
        "outputId": "a21417bf-8e7c-4c9a-fd0f-d4e0f02865fd",
        "colab": {
          "base_uri": "https://localhost:8080/",
          "height": 787
        }
      },
      "source": [
        "history = do_model.fit(train_dataset, epochs=training_epochs, steps_per_epoch=steps_per_epoch, \n",
        "                    validation_data=test_dataset, validation_steps=validation_steps)"
      ],
      "execution_count": 0,
      "outputs": [
        {
          "output_type": "stream",
          "text": [
            "Train for 600 steps, validate for 100 steps\n",
            "Epoch 1/20\n",
            "600/600 [==============================] - 5s 8ms/step - loss: 0.4318 - accuracy: 0.8673 - val_loss: 0.1585 - val_accuracy: 0.9527\n",
            "Epoch 2/20\n",
            "600/600 [==============================] - 4s 6ms/step - loss: 0.1923 - accuracy: 0.9485 - val_loss: 0.1113 - val_accuracy: 0.9679\n",
            "Epoch 3/20\n",
            "600/600 [==============================] - 4s 6ms/step - loss: 0.1506 - accuracy: 0.9603 - val_loss: 0.1077 - val_accuracy: 0.9732\n",
            "Epoch 4/20\n",
            "600/600 [==============================] - 4s 6ms/step - loss: 0.1303 - accuracy: 0.9661 - val_loss: 0.0889 - val_accuracy: 0.9764\n",
            "Epoch 5/20\n",
            "600/600 [==============================] - 4s 6ms/step - loss: 0.1197 - accuracy: 0.9694 - val_loss: 0.0966 - val_accuracy: 0.9772\n",
            "Epoch 6/20\n",
            "600/600 [==============================] - 4s 6ms/step - loss: 0.1128 - accuracy: 0.9718 - val_loss: 0.0921 - val_accuracy: 0.9790\n",
            "Epoch 7/20\n",
            "600/600 [==============================] - 4s 6ms/step - loss: 0.1073 - accuracy: 0.9741 - val_loss: 0.1008 - val_accuracy: 0.9776\n",
            "Epoch 8/20\n",
            "600/600 [==============================] - 4s 6ms/step - loss: 0.1046 - accuracy: 0.9754 - val_loss: 0.0915 - val_accuracy: 0.9793\n",
            "Epoch 9/20\n",
            "600/600 [==============================] - 4s 6ms/step - loss: 0.1032 - accuracy: 0.9768 - val_loss: 0.0988 - val_accuracy: 0.9788\n",
            "Epoch 10/20\n",
            "600/600 [==============================] - 4s 6ms/step - loss: 0.1013 - accuracy: 0.9770 - val_loss: 0.0986 - val_accuracy: 0.9805\n",
            "Epoch 11/20\n",
            "600/600 [==============================] - 4s 6ms/step - loss: 0.0952 - accuracy: 0.9785 - val_loss: 0.1195 - val_accuracy: 0.9775\n",
            "Epoch 12/20\n",
            "600/600 [==============================] - 4s 6ms/step - loss: 0.0959 - accuracy: 0.9787 - val_loss: 0.1100 - val_accuracy: 0.9796\n",
            "Epoch 13/20\n",
            "600/600 [==============================] - 4s 6ms/step - loss: 0.0969 - accuracy: 0.9791 - val_loss: 0.1180 - val_accuracy: 0.9786\n",
            "Epoch 14/20\n",
            "600/600 [==============================] - 4s 6ms/step - loss: 0.0923 - accuracy: 0.9797 - val_loss: 0.1270 - val_accuracy: 0.9797\n",
            "Epoch 15/20\n",
            "600/600 [==============================] - 4s 6ms/step - loss: 0.0937 - accuracy: 0.9803 - val_loss: 0.1270 - val_accuracy: 0.9793\n",
            "Epoch 16/20\n",
            "600/600 [==============================] - 4s 6ms/step - loss: 0.0976 - accuracy: 0.9798 - val_loss: 0.1248 - val_accuracy: 0.9810\n",
            "Epoch 17/20\n",
            "600/600 [==============================] - 4s 6ms/step - loss: 0.0944 - accuracy: 0.9813 - val_loss: 0.1184 - val_accuracy: 0.9809\n",
            "Epoch 18/20\n",
            "600/600 [==============================] - 4s 6ms/step - loss: 0.0966 - accuracy: 0.9810 - val_loss: 0.1338 - val_accuracy: 0.9788\n",
            "Epoch 19/20\n",
            "600/600 [==============================] - 4s 6ms/step - loss: 0.0958 - accuracy: 0.9808 - val_loss: 0.1266 - val_accuracy: 0.9800\n",
            "Epoch 20/20\n",
            "600/600 [==============================] - 4s 6ms/step - loss: 0.0910 - accuracy: 0.9826 - val_loss: 0.1478 - val_accuracy: 0.9802\n"
          ],
          "name": "stdout"
        }
      ]
    },
    {
      "cell_type": "markdown",
      "metadata": {
        "id": "o4Gwn7Ohke_0",
        "colab_type": "text"
      },
      "source": [
        "## Weight Decay (L2 Regulrarization)"
      ]
    },
    {
      "cell_type": "code",
      "metadata": {
        "id": "498WlMinivuh",
        "colab_type": "code",
        "colab": {}
      },
      "source": [
        "reg_weight = 0.0002\n",
        "\n",
        "def create_l2r_model():\n",
        "    model = keras.Sequential()\n",
        "    model.add(keras.layers.Flatten(input_shape=(28,28)))\n",
        "    model.add(keras.layers.Dense(256, activation='relu',\n",
        "                                kernel_regularizer=keras.regularizers.l2(reg_weight)))\n",
        "    model.add(keras.layers.Dense(256, activation='relu',\n",
        "                                kernel_regularizer=keras.regularizers.l2(reg_weight)))\n",
        "    model.add(keras.layers.Dense(128, activation='relu',\n",
        "                                kernel_regularizer=keras.regularizers.l2(reg_weight)))\n",
        "    model.add(keras.layers.Dense(128, activation='relu',\n",
        "                                kernel_regularizer=keras.regularizers.l2(reg_weight)))    \n",
        "    model.add(keras.layers.Dense(10, activation='softmax',\n",
        "                                kernel_regularizer=keras.regularizers.l2(reg_weight)))\n",
        "    return model"
      ],
      "execution_count": 0,
      "outputs": []
    },
    {
      "cell_type": "code",
      "metadata": {
        "id": "oaAVX1tKi684",
        "colab_type": "code",
        "outputId": "f81f284c-30e9-442b-8bd8-f9ed4e06d669",
        "colab": {
          "base_uri": "https://localhost:8080/",
          "height": 393
        }
      },
      "source": [
        "l2r_model = create_l2r_model()\n",
        "l2r_model.summary()"
      ],
      "execution_count": 0,
      "outputs": [
        {
          "output_type": "stream",
          "text": [
            "Model: \"sequential_7\"\n",
            "_________________________________________________________________\n",
            "Layer (type)                 Output Shape              Param #   \n",
            "=================================================================\n",
            "flatten_7 (Flatten)          (None, 784)               0         \n",
            "_________________________________________________________________\n",
            "dense_23 (Dense)             (None, 256)               200960    \n",
            "_________________________________________________________________\n",
            "dense_24 (Dense)             (None, 256)               65792     \n",
            "_________________________________________________________________\n",
            "dense_25 (Dense)             (None, 128)               32896     \n",
            "_________________________________________________________________\n",
            "dense_26 (Dense)             (None, 128)               16512     \n",
            "_________________________________________________________________\n",
            "dense_27 (Dense)             (None, 10)                1290      \n",
            "=================================================================\n",
            "Total params: 317,450\n",
            "Trainable params: 317,450\n",
            "Non-trainable params: 0\n",
            "_________________________________________________________________\n"
          ],
          "name": "stdout"
        }
      ]
    },
    {
      "cell_type": "code",
      "metadata": {
        "id": "aA44lA68i_Jr",
        "colab_type": "code",
        "colab": {}
      },
      "source": [
        "l2r_model.compile(optimizers=keras.optimizers.Adam(learning_rate),\n",
        "                 loss = 'categorical_crossentropy',\n",
        "                 metrics=['accuracy'])"
      ],
      "execution_count": 0,
      "outputs": []
    },
    {
      "cell_type": "code",
      "metadata": {
        "id": "z8WeyIGjjCDV",
        "colab_type": "code",
        "outputId": "b96bb14a-9782-4788-9ed6-b4b205355743",
        "colab": {
          "base_uri": "https://localhost:8080/",
          "height": 787
        }
      },
      "source": [
        "history = l2r_model.fit(train_dataset, epochs=training_epochs, steps_per_epoch=steps_per_epoch, \n",
        "                    validation_data=test_dataset, validation_steps=validation_steps)"
      ],
      "execution_count": 0,
      "outputs": [
        {
          "output_type": "stream",
          "text": [
            "Train for 600 steps, validate for 100 steps\n",
            "Epoch 1/20\n",
            "600/600 [==============================] - 5s 8ms/step - loss: 0.4073 - accuracy: 0.9191 - val_loss: 0.2418 - val_accuracy: 0.9658\n",
            "Epoch 2/20\n",
            "600/600 [==============================] - 4s 6ms/step - loss: 0.2249 - accuracy: 0.9678 - val_loss: 0.2006 - val_accuracy: 0.9706\n",
            "Epoch 3/20\n",
            "600/600 [==============================] - 4s 6ms/step - loss: 0.1821 - accuracy: 0.9739 - val_loss: 0.1717 - val_accuracy: 0.9761\n",
            "Epoch 4/20\n",
            "600/600 [==============================] - 4s 6ms/step - loss: 0.1571 - accuracy: 0.9779 - val_loss: 0.1504 - val_accuracy: 0.9778\n",
            "Epoch 5/20\n",
            "600/600 [==============================] - 4s 6ms/step - loss: 0.1377 - accuracy: 0.9807 - val_loss: 0.2007 - val_accuracy: 0.9623\n",
            "Epoch 6/20\n",
            "600/600 [==============================] - 4s 6ms/step - loss: 0.1279 - accuracy: 0.9819 - val_loss: 0.1420 - val_accuracy: 0.9767\n",
            "Epoch 7/20\n",
            "600/600 [==============================] - 4s 6ms/step - loss: 0.1185 - accuracy: 0.9834 - val_loss: 0.1363 - val_accuracy: 0.9777\n",
            "Epoch 8/20\n",
            "600/600 [==============================] - 4s 6ms/step - loss: 0.1118 - accuracy: 0.9842 - val_loss: 0.1386 - val_accuracy: 0.9785\n",
            "Epoch 9/20\n",
            "600/600 [==============================] - 4s 6ms/step - loss: 0.1059 - accuracy: 0.9852 - val_loss: 0.1382 - val_accuracy: 0.9783\n",
            "Epoch 10/20\n",
            "600/600 [==============================] - 4s 6ms/step - loss: 0.1026 - accuracy: 0.9857 - val_loss: 0.1406 - val_accuracy: 0.9769\n",
            "Epoch 11/20\n",
            "600/600 [==============================] - 4s 6ms/step - loss: 0.0988 - accuracy: 0.9866 - val_loss: 0.1306 - val_accuracy: 0.9778\n",
            "Epoch 12/20\n",
            "600/600 [==============================] - 4s 6ms/step - loss: 0.0946 - accuracy: 0.9880 - val_loss: 0.1267 - val_accuracy: 0.9802\n",
            "Epoch 13/20\n",
            "600/600 [==============================] - 4s 6ms/step - loss: 0.0939 - accuracy: 0.9877 - val_loss: 0.1421 - val_accuracy: 0.9746\n",
            "Epoch 14/20\n",
            "600/600 [==============================] - 4s 6ms/step - loss: 0.0926 - accuracy: 0.9879 - val_loss: 0.1359 - val_accuracy: 0.9744\n",
            "Epoch 15/20\n",
            "600/600 [==============================] - 4s 6ms/step - loss: 0.0909 - accuracy: 0.9881 - val_loss: 0.1365 - val_accuracy: 0.9769\n",
            "Epoch 16/20\n",
            "600/600 [==============================] - 4s 6ms/step - loss: 0.0903 - accuracy: 0.9882 - val_loss: 0.1232 - val_accuracy: 0.9789\n",
            "Epoch 17/20\n",
            "600/600 [==============================] - 4s 6ms/step - loss: 0.0882 - accuracy: 0.9885 - val_loss: 0.1292 - val_accuracy: 0.9778\n",
            "Epoch 18/20\n",
            "600/600 [==============================] - 4s 6ms/step - loss: 0.0864 - accuracy: 0.9893 - val_loss: 0.1152 - val_accuracy: 0.9809\n",
            "Epoch 19/20\n",
            "600/600 [==============================] - 4s 6ms/step - loss: 0.0872 - accuracy: 0.9890 - val_loss: 0.1311 - val_accuracy: 0.9763\n",
            "Epoch 20/20\n",
            "600/600 [==============================] - 4s 6ms/step - loss: 0.0857 - accuracy: 0.9892 - val_loss: 0.1251 - val_accuracy: 0.9774\n"
          ],
          "name": "stdout"
        }
      ]
    },
    {
      "cell_type": "markdown",
      "metadata": {
        "id": "irML-8lUkkfG",
        "colab_type": "text"
      },
      "source": [
        "## Batch Normalization"
      ]
    },
    {
      "cell_type": "code",
      "metadata": {
        "id": "gNeYF10ejFGk",
        "colab_type": "code",
        "colab": {}
      },
      "source": [
        "def create_bn_model():\n",
        "    model = keras.Sequential()\n",
        "    model.add(keras.layers.Flatten(input_shape=(28,28)))\n",
        "    model.add(keras.layers.Dense(256))\n",
        "    model.add(keras.layers.BatchNormalization())\n",
        "    model.add(keras.layers.ReLU())\n",
        "    model.add(keras.layers.Dense(256))\n",
        "    model.add(keras.layers.BatchNormalization())\n",
        "    model.add(keras.layers.ReLU())\n",
        "    model.add(keras.layers.Dense(128))\n",
        "    model.add(keras.layers.BatchNormalization())\n",
        "    model.add(keras.layers.ReLU())\n",
        "    model.add(keras.layers.Dense(128))\n",
        "    model.add(keras.layers.BatchNormalization())\n",
        "    model.add(keras.layers.ReLU())\n",
        "    model.add(keras.layers.Dense(10))\n",
        "    model.add(keras.layers.BatchNormalization())\n",
        "    model.add(keras.layers.Softmax())\n",
        "    return model"
      ],
      "execution_count": 0,
      "outputs": []
    },
    {
      "cell_type": "code",
      "metadata": {
        "id": "yE7WPx0gjiCc",
        "colab_type": "code",
        "outputId": "398f95d7-c28e-4dcb-eb5a-b4a5deb7b679",
        "colab": {
          "base_uri": "https://localhost:8080/",
          "height": 768
        }
      },
      "source": [
        "bn_model = create_bn_model()\n",
        "bn_model.summary()"
      ],
      "execution_count": 0,
      "outputs": [
        {
          "output_type": "stream",
          "text": [
            "Model: \"sequential_8\"\n",
            "_________________________________________________________________\n",
            "Layer (type)                 Output Shape              Param #   \n",
            "=================================================================\n",
            "flatten_8 (Flatten)          (None, 784)               0         \n",
            "_________________________________________________________________\n",
            "dense_28 (Dense)             (None, 256)               200960    \n",
            "_________________________________________________________________\n",
            "batch_normalization (BatchNo (None, 256)               1024      \n",
            "_________________________________________________________________\n",
            "re_lu (ReLU)                 (None, 256)               0         \n",
            "_________________________________________________________________\n",
            "dense_29 (Dense)             (None, 256)               65792     \n",
            "_________________________________________________________________\n",
            "batch_normalization_1 (Batch (None, 256)               1024      \n",
            "_________________________________________________________________\n",
            "re_lu_1 (ReLU)               (None, 256)               0         \n",
            "_________________________________________________________________\n",
            "dense_30 (Dense)             (None, 128)               32896     \n",
            "_________________________________________________________________\n",
            "batch_normalization_2 (Batch (None, 128)               512       \n",
            "_________________________________________________________________\n",
            "re_lu_2 (ReLU)               (None, 128)               0         \n",
            "_________________________________________________________________\n",
            "dense_31 (Dense)             (None, 128)               16512     \n",
            "_________________________________________________________________\n",
            "batch_normalization_3 (Batch (None, 128)               512       \n",
            "_________________________________________________________________\n",
            "re_lu_3 (ReLU)               (None, 128)               0         \n",
            "_________________________________________________________________\n",
            "dense_32 (Dense)             (None, 10)                1290      \n",
            "_________________________________________________________________\n",
            "batch_normalization_4 (Batch (None, 10)                40        \n",
            "_________________________________________________________________\n",
            "softmax (Softmax)            (None, 10)                0         \n",
            "=================================================================\n",
            "Total params: 320,562\n",
            "Trainable params: 319,006\n",
            "Non-trainable params: 1,556\n",
            "_________________________________________________________________\n"
          ],
          "name": "stdout"
        }
      ]
    },
    {
      "cell_type": "code",
      "metadata": {
        "id": "vD-Oz2nhjmNS",
        "colab_type": "code",
        "colab": {}
      },
      "source": [
        "bn_model.compile(optimizers=keras.optimizers.Adam(learning_rate),\n",
        "                 loss = 'categorical_crossentropy',\n",
        "                 metrics=['accuracy'])"
      ],
      "execution_count": 0,
      "outputs": []
    },
    {
      "cell_type": "code",
      "metadata": {
        "id": "35Y_1qiijomM",
        "colab_type": "code",
        "outputId": "d4103260-a716-48b8-afa1-bfd0e3049afb",
        "colab": {
          "base_uri": "https://localhost:8080/",
          "height": 787
        }
      },
      "source": [
        "history = bn_model.fit(train_dataset, epochs=training_epochs, steps_per_epoch=steps_per_epoch, \n",
        "                    validation_data=test_dataset, validation_steps=validation_steps)"
      ],
      "execution_count": 0,
      "outputs": [
        {
          "output_type": "stream",
          "text": [
            "Train for 600 steps, validate for 100 steps\n",
            "Epoch 1/20\n",
            "600/600 [==============================] - 10s 17ms/step - loss: 0.3543 - accuracy: 0.9416 - val_loss: 0.1678 - val_accuracy: 0.9709\n",
            "Epoch 2/20\n",
            "600/600 [==============================] - 8s 13ms/step - loss: 0.1378 - accuracy: 0.9722 - val_loss: 0.0984 - val_accuracy: 0.9757\n",
            "Epoch 3/20\n",
            "600/600 [==============================] - 8s 13ms/step - loss: 0.0839 - accuracy: 0.9803 - val_loss: 0.0748 - val_accuracy: 0.9809\n",
            "Epoch 4/20\n",
            "600/600 [==============================] - 7s 12ms/step - loss: 0.0616 - accuracy: 0.9847 - val_loss: 0.0824 - val_accuracy: 0.9766\n",
            "Epoch 5/20\n",
            "600/600 [==============================] - 8s 13ms/step - loss: 0.0484 - accuracy: 0.9873 - val_loss: 0.0672 - val_accuracy: 0.9814\n",
            "Epoch 6/20\n",
            "600/600 [==============================] - 7s 12ms/step - loss: 0.0383 - accuracy: 0.9895 - val_loss: 0.0616 - val_accuracy: 0.9816\n",
            "Epoch 7/20\n",
            "600/600 [==============================] - 7s 12ms/step - loss: 0.0320 - accuracy: 0.9908 - val_loss: 0.0585 - val_accuracy: 0.9824\n",
            "Epoch 8/20\n",
            "600/600 [==============================] - 8s 13ms/step - loss: 0.0274 - accuracy: 0.9920 - val_loss: 0.0678 - val_accuracy: 0.9813\n",
            "Epoch 9/20\n",
            "600/600 [==============================] - 8s 13ms/step - loss: 0.0235 - accuracy: 0.9934 - val_loss: 0.0694 - val_accuracy: 0.9811\n",
            "Epoch 10/20\n",
            "600/600 [==============================] - 8s 13ms/step - loss: 0.0203 - accuracy: 0.9940 - val_loss: 0.0591 - val_accuracy: 0.9839\n",
            "Epoch 11/20\n",
            "600/600 [==============================] - 8s 13ms/step - loss: 0.0185 - accuracy: 0.9945 - val_loss: 0.0766 - val_accuracy: 0.9808\n",
            "Epoch 12/20\n",
            "600/600 [==============================] - 8s 13ms/step - loss: 0.0157 - accuracy: 0.9954 - val_loss: 0.0677 - val_accuracy: 0.9827\n",
            "Epoch 13/20\n",
            "600/600 [==============================] - 7s 12ms/step - loss: 0.0142 - accuracy: 0.9956 - val_loss: 0.0697 - val_accuracy: 0.9820\n",
            "Epoch 14/20\n",
            "600/600 [==============================] - 8s 13ms/step - loss: 0.0121 - accuracy: 0.9966 - val_loss: 0.0681 - val_accuracy: 0.9830\n",
            "Epoch 15/20\n",
            "600/600 [==============================] - 8s 13ms/step - loss: 0.0121 - accuracy: 0.9962 - val_loss: 0.0618 - val_accuracy: 0.9831\n",
            "Epoch 16/20\n",
            "600/600 [==============================] - 7s 12ms/step - loss: 0.0107 - accuracy: 0.9969 - val_loss: 0.0735 - val_accuracy: 0.9825\n",
            "Epoch 17/20\n",
            "600/600 [==============================] - 8s 13ms/step - loss: 0.0107 - accuracy: 0.9970 - val_loss: 0.0683 - val_accuracy: 0.9840\n",
            "Epoch 18/20\n",
            "600/600 [==============================] - 7s 12ms/step - loss: 0.0091 - accuracy: 0.9972 - val_loss: 0.0655 - val_accuracy: 0.9832\n",
            "Epoch 19/20\n",
            "600/600 [==============================] - 7s 12ms/step - loss: 0.0094 - accuracy: 0.9969 - val_loss: 0.0656 - val_accuracy: 0.9851\n",
            "Epoch 20/20\n",
            "600/600 [==============================] - 7s 12ms/step - loss: 0.0086 - accuracy: 0.9973 - val_loss: 0.0740 - val_accuracy: 0.9836\n"
          ],
          "name": "stdout"
        }
      ]
    },
    {
      "cell_type": "markdown",
      "metadata": {
        "id": "8kxIPIPlkuz1",
        "colab_type": "text"
      },
      "source": [
        "## Learning Rate Decay"
      ]
    },
    {
      "cell_type": "code",
      "metadata": {
        "id": "4fyYjZuajsS0",
        "colab_type": "code",
        "outputId": "5cd71175-e88d-4fe6-8e0d-f2dcc8f1b7af",
        "colab": {
          "base_uri": "https://localhost:8080/",
          "height": 393
        }
      },
      "source": [
        "lr_decay_model = create_dmlp_model()\n",
        "lr_decay_model.summary()"
      ],
      "execution_count": 0,
      "outputs": [
        {
          "output_type": "stream",
          "text": [
            "Model: \"sequential_9\"\n",
            "_________________________________________________________________\n",
            "Layer (type)                 Output Shape              Param #   \n",
            "=================================================================\n",
            "flatten_9 (Flatten)          (None, 784)               0         \n",
            "_________________________________________________________________\n",
            "dense_33 (Dense)             (None, 256)               200960    \n",
            "_________________________________________________________________\n",
            "dense_34 (Dense)             (None, 256)               65792     \n",
            "_________________________________________________________________\n",
            "dense_35 (Dense)             (None, 128)               32896     \n",
            "_________________________________________________________________\n",
            "dense_36 (Dense)             (None, 128)               16512     \n",
            "_________________________________________________________________\n",
            "dense_37 (Dense)             (None, 10)                1290      \n",
            "=================================================================\n",
            "Total params: 317,450\n",
            "Trainable params: 317,450\n",
            "Non-trainable params: 0\n",
            "_________________________________________________________________\n"
          ],
          "name": "stdout"
        }
      ]
    },
    {
      "cell_type": "code",
      "metadata": {
        "id": "9NPkdj28j8NC",
        "colab_type": "code",
        "colab": {}
      },
      "source": [
        "lr_schedule = keras.optimizers.schedules.ExponentialDecay(initial_learning_rate=learning_rate,\n",
        "                                                          decay_steps=n_train//batch_size*10,\n",
        "                                                          decay_rate=0.5,\n",
        "                                                          staircase=True)"
      ],
      "execution_count": 0,
      "outputs": []
    },
    {
      "cell_type": "code",
      "metadata": {
        "id": "M1j-pvySj-tv",
        "colab_type": "code",
        "colab": {}
      },
      "source": [
        "lr_decay_model.compile(optimizers=keras.optimizers.Adam(lr_schedule),\n",
        "                 loss = 'categorical_crossentropy',\n",
        "                 metrics=['accuracy'])"
      ],
      "execution_count": 0,
      "outputs": []
    },
    {
      "cell_type": "code",
      "metadata": {
        "id": "fmJleaw4kEpP",
        "colab_type": "code",
        "outputId": "f8974e2b-f1b0-4282-9afe-257542e51a9b",
        "colab": {
          "base_uri": "https://localhost:8080/",
          "height": 787
        }
      },
      "source": [
        "history = lr_decay_model.fit(train_dataset, epochs=training_epochs, steps_per_epoch=steps_per_epoch, \n",
        "                    validation_data=test_dataset, validation_steps=validation_steps)"
      ],
      "execution_count": 0,
      "outputs": [
        {
          "output_type": "stream",
          "text": [
            "Train for 600 steps, validate for 100 steps\n",
            "Epoch 1/20\n",
            "600/600 [==============================] - 5s 8ms/step - loss: 0.2629 - accuracy: 0.9204 - val_loss: 0.1310 - val_accuracy: 0.9607\n",
            "Epoch 2/20\n",
            "600/600 [==============================] - 4s 6ms/step - loss: 0.1001 - accuracy: 0.9700 - val_loss: 0.0881 - val_accuracy: 0.9751\n",
            "Epoch 3/20\n",
            "600/600 [==============================] - 4s 6ms/step - loss: 0.0682 - accuracy: 0.9795 - val_loss: 0.0930 - val_accuracy: 0.9742\n",
            "Epoch 4/20\n",
            "600/600 [==============================] - 4s 6ms/step - loss: 0.0536 - accuracy: 0.9835 - val_loss: 0.0867 - val_accuracy: 0.9759\n",
            "Epoch 5/20\n",
            "600/600 [==============================] - 4s 6ms/step - loss: 0.0418 - accuracy: 0.9873 - val_loss: 0.0871 - val_accuracy: 0.9776\n",
            "Epoch 6/20\n",
            "600/600 [==============================] - 4s 6ms/step - loss: 0.0356 - accuracy: 0.9900 - val_loss: 0.1036 - val_accuracy: 0.9766\n",
            "Epoch 7/20\n",
            "600/600 [==============================] - 4s 6ms/step - loss: 0.0310 - accuracy: 0.9907 - val_loss: 0.0966 - val_accuracy: 0.9793\n",
            "Epoch 8/20\n",
            "600/600 [==============================] - 4s 6ms/step - loss: 0.0259 - accuracy: 0.9923 - val_loss: 0.1021 - val_accuracy: 0.9818\n",
            "Epoch 9/20\n",
            "600/600 [==============================] - 4s 6ms/step - loss: 0.0247 - accuracy: 0.9932 - val_loss: 0.1277 - val_accuracy: 0.9782\n",
            "Epoch 10/20\n",
            "600/600 [==============================] - 4s 6ms/step - loss: 0.0210 - accuracy: 0.9938 - val_loss: 0.1620 - val_accuracy: 0.9772\n",
            "Epoch 11/20\n",
            "600/600 [==============================] - 4s 6ms/step - loss: 0.0204 - accuracy: 0.9946 - val_loss: 0.1507 - val_accuracy: 0.9749\n",
            "Epoch 12/20\n",
            "600/600 [==============================] - 4s 6ms/step - loss: 0.0201 - accuracy: 0.9948 - val_loss: 0.1773 - val_accuracy: 0.9775\n",
            "Epoch 13/20\n",
            "600/600 [==============================] - 4s 6ms/step - loss: 0.0183 - accuracy: 0.9955 - val_loss: 0.1658 - val_accuracy: 0.9800\n",
            "Epoch 14/20\n",
            "600/600 [==============================] - 4s 6ms/step - loss: 0.0178 - accuracy: 0.9956 - val_loss: 0.1691 - val_accuracy: 0.9808\n",
            "Epoch 15/20\n",
            "600/600 [==============================] - 4s 6ms/step - loss: 0.0179 - accuracy: 0.9958 - val_loss: 0.1418 - val_accuracy: 0.9820\n",
            "Epoch 16/20\n",
            "600/600 [==============================] - 4s 6ms/step - loss: 0.0157 - accuracy: 0.9957 - val_loss: 0.2138 - val_accuracy: 0.9802\n",
            "Epoch 17/20\n",
            "600/600 [==============================] - 4s 6ms/step - loss: 0.0158 - accuracy: 0.9963 - val_loss: 0.1912 - val_accuracy: 0.9820\n",
            "Epoch 18/20\n",
            "600/600 [==============================] - 4s 6ms/step - loss: 0.0131 - accuracy: 0.9970 - val_loss: 0.1737 - val_accuracy: 0.9817\n",
            "Epoch 19/20\n",
            "600/600 [==============================] - 4s 6ms/step - loss: 0.0164 - accuracy: 0.9964 - val_loss: 0.1885 - val_accuracy: 0.9808\n",
            "Epoch 20/20\n",
            "600/600 [==============================] - 4s 6ms/step - loss: 0.0142 - accuracy: 0.9968 - val_loss: 0.2353 - val_accuracy: 0.9804\n"
          ],
          "name": "stdout"
        }
      ]
    },
    {
      "cell_type": "code",
      "metadata": {
        "id": "-JuDsyAekH28",
        "colab_type": "code",
        "colab": {}
      },
      "source": [
        ""
      ],
      "execution_count": 0,
      "outputs": []
    }
  ]
}